{
 "cells": [
  {
   "cell_type": "markdown",
   "metadata": {},
   "source": [
    "# Analysis of the Black Swan strategy\n",
    "\n",
    "Findings:\n",
    "- It works, but it does not work better than just investing in stocks.\n",
    "- It is quite sensitive to the hyper-parameters horizon and out-of-money chosen, which is a sign that the case where it works really really well is a case of striking a gold mine.\n",
    "\n",
    "Suggestion: Don't do it.\n",
    "(Also b/c it will mean that you will have to hold all your capital in cash, as the Black Swan counteracts a stock-investment strategy. So the Black Swan will be the only one you can try to run. There is on diversification.)"
   ]
  },
  {
   "cell_type": "code",
   "execution_count": 1,
   "metadata": {},
   "outputs": [],
   "source": [
    "# We want to reload all modules before execution, each time, as we do not care about performance\n",
    "# but easy development and we will be changing the modules a ton:\n",
    "%load_ext autoreload\n",
    "%autoreload 2\n",
    "\n",
    "import os\n",
    "import sys\n",
    "sys.path.append(os.environ.get('BLACK_SWAN_PATH'))\n",
    "from tqdm.notebook import tqdm"
   ]
  },
  {
   "cell_type": "code",
   "execution_count": 2,
   "metadata": {},
   "outputs": [],
   "source": [
    "import numpy as np\n",
    "import pandas as pd\n",
    "import seaborn as sns\n",
    "import matplotlib.pyplot as plt\n",
    "from strategy_simulation import Simulation, SimulationOptions"
   ]
  },
  {
   "cell_type": "code",
   "execution_count": 3,
   "metadata": {},
   "outputs": [
    {
     "name": "stdout",
     "output_type": "stream",
     "text": [
      "Loaded 220 stocks from /home/notger-heinz/projects_and_analysis/black_swan_strategy/prices.\n",
      "2 stocks were rejected for reason of having less than 1000 entries.\n",
      "After filtering out 4192 rows with weird date formats, 10552 rows remain.\n",
      "After removal of discontinuous stock price lists was skipped, 218 stocks are left.\n",
      "\n"
     ]
    }
   ],
   "source": [
    "sim = Simulation()"
   ]
  },
  {
   "cell_type": "markdown",
   "metadata": {},
   "source": [
    "# Dry-run of the simulation"
   ]
  },
  {
   "cell_type": "code",
   "execution_count": 4,
   "metadata": {},
   "outputs": [
    {
     "name": "stderr",
     "output_type": "stream",
     "text": [
      "100%|██████████| 218/218 [02:02<00:00,  1.78it/s]"
     ]
    },
    {
     "name": "stdout",
     "output_type": "stream",
     "text": [
      "Finished calculating the yearly sigmas.\n"
     ]
    },
    {
     "name": "stderr",
     "output_type": "stream",
     "text": [
      "\n"
     ]
    },
    {
     "data": {
      "application/vnd.jupyter.widget-view+json": {
       "model_id": "0b182aab0b0a455eaafbc84ea96036a4",
       "version_major": 2,
       "version_minor": 0
      },
      "text/plain": [
       "HBox(children=(HTML(value=''), FloatProgress(value=0.0, max=218.0), HTML(value='')))"
      ]
     },
     "metadata": {},
     "output_type": "display_data"
    },
    {
     "name": "stdout",
     "output_type": "stream",
     "text": [
      "\n"
     ]
    },
    {
     "data": {
      "text/html": [
       "<div>\n",
       "<style scoped>\n",
       "    .dataframe tbody tr th:only-of-type {\n",
       "        vertical-align: middle;\n",
       "    }\n",
       "\n",
       "    .dataframe tbody tr th {\n",
       "        vertical-align: top;\n",
       "    }\n",
       "\n",
       "    .dataframe thead th {\n",
       "        text-align: right;\n",
       "    }\n",
       "</style>\n",
       "<table border=\"1\" class=\"dataframe\">\n",
       "  <thead>\n",
       "    <tr style=\"text-align: right;\">\n",
       "      <th></th>\n",
       "      <th>CMI_prices</th>\n",
       "      <th>VNO_prices</th>\n",
       "      <th>TMO_prices</th>\n",
       "      <th>CMCSA_prices</th>\n",
       "      <th>AMD_prices</th>\n",
       "      <th>NEM_prices</th>\n",
       "      <th>TPR_prices</th>\n",
       "      <th>BF-B_prices</th>\n",
       "      <th>BR_prices</th>\n",
       "      <th>BLK_prices</th>\n",
       "      <th>...</th>\n",
       "      <th>CAG_prices</th>\n",
       "      <th>WFC_prices</th>\n",
       "      <th>CRM_prices</th>\n",
       "      <th>CPB_prices</th>\n",
       "      <th>WY_prices</th>\n",
       "      <th>VZ_prices</th>\n",
       "      <th>XRX_prices</th>\n",
       "      <th>WST_prices</th>\n",
       "      <th>VRSN_prices</th>\n",
       "      <th>NVDA_prices</th>\n",
       "    </tr>\n",
       "    <tr>\n",
       "      <th>Date</th>\n",
       "      <th></th>\n",
       "      <th></th>\n",
       "      <th></th>\n",
       "      <th></th>\n",
       "      <th></th>\n",
       "      <th></th>\n",
       "      <th></th>\n",
       "      <th></th>\n",
       "      <th></th>\n",
       "      <th></th>\n",
       "      <th></th>\n",
       "      <th></th>\n",
       "      <th></th>\n",
       "      <th></th>\n",
       "      <th></th>\n",
       "      <th></th>\n",
       "      <th></th>\n",
       "      <th></th>\n",
       "      <th></th>\n",
       "      <th></th>\n",
       "      <th></th>\n",
       "    </tr>\n",
       "  </thead>\n",
       "  <tbody>\n",
       "    <tr>\n",
       "      <th>1979-12-31</th>\n",
       "      <td>NaN</td>\n",
       "      <td>NaN</td>\n",
       "      <td>NaN</td>\n",
       "      <td>NaN</td>\n",
       "      <td>NaN</td>\n",
       "      <td>NaN</td>\n",
       "      <td>NaN</td>\n",
       "      <td>NaN</td>\n",
       "      <td>NaN</td>\n",
       "      <td>NaN</td>\n",
       "      <td>...</td>\n",
       "      <td>NaN</td>\n",
       "      <td>NaN</td>\n",
       "      <td>NaN</td>\n",
       "      <td>NaN</td>\n",
       "      <td>NaN</td>\n",
       "      <td>NaN</td>\n",
       "      <td>NaN</td>\n",
       "      <td>NaN</td>\n",
       "      <td>NaN</td>\n",
       "      <td>NaN</td>\n",
       "    </tr>\n",
       "    <tr>\n",
       "      <th>1980-01-02</th>\n",
       "      <td>NaN</td>\n",
       "      <td>NaN</td>\n",
       "      <td>NaN</td>\n",
       "      <td>NaN</td>\n",
       "      <td>NaN</td>\n",
       "      <td>NaN</td>\n",
       "      <td>NaN</td>\n",
       "      <td>NaN</td>\n",
       "      <td>NaN</td>\n",
       "      <td>NaN</td>\n",
       "      <td>...</td>\n",
       "      <td>NaN</td>\n",
       "      <td>NaN</td>\n",
       "      <td>NaN</td>\n",
       "      <td>NaN</td>\n",
       "      <td>NaN</td>\n",
       "      <td>NaN</td>\n",
       "      <td>NaN</td>\n",
       "      <td>NaN</td>\n",
       "      <td>NaN</td>\n",
       "      <td>NaN</td>\n",
       "    </tr>\n",
       "    <tr>\n",
       "      <th>1980-01-03</th>\n",
       "      <td>NaN</td>\n",
       "      <td>NaN</td>\n",
       "      <td>NaN</td>\n",
       "      <td>NaN</td>\n",
       "      <td>NaN</td>\n",
       "      <td>NaN</td>\n",
       "      <td>NaN</td>\n",
       "      <td>NaN</td>\n",
       "      <td>NaN</td>\n",
       "      <td>NaN</td>\n",
       "      <td>...</td>\n",
       "      <td>NaN</td>\n",
       "      <td>NaN</td>\n",
       "      <td>NaN</td>\n",
       "      <td>NaN</td>\n",
       "      <td>NaN</td>\n",
       "      <td>NaN</td>\n",
       "      <td>NaN</td>\n",
       "      <td>NaN</td>\n",
       "      <td>NaN</td>\n",
       "      <td>NaN</td>\n",
       "    </tr>\n",
       "    <tr>\n",
       "      <th>1980-01-04</th>\n",
       "      <td>NaN</td>\n",
       "      <td>NaN</td>\n",
       "      <td>NaN</td>\n",
       "      <td>NaN</td>\n",
       "      <td>NaN</td>\n",
       "      <td>NaN</td>\n",
       "      <td>NaN</td>\n",
       "      <td>NaN</td>\n",
       "      <td>NaN</td>\n",
       "      <td>NaN</td>\n",
       "      <td>...</td>\n",
       "      <td>NaN</td>\n",
       "      <td>NaN</td>\n",
       "      <td>NaN</td>\n",
       "      <td>NaN</td>\n",
       "      <td>NaN</td>\n",
       "      <td>NaN</td>\n",
       "      <td>NaN</td>\n",
       "      <td>NaN</td>\n",
       "      <td>NaN</td>\n",
       "      <td>NaN</td>\n",
       "    </tr>\n",
       "    <tr>\n",
       "      <th>1980-01-07</th>\n",
       "      <td>NaN</td>\n",
       "      <td>NaN</td>\n",
       "      <td>NaN</td>\n",
       "      <td>NaN</td>\n",
       "      <td>NaN</td>\n",
       "      <td>NaN</td>\n",
       "      <td>NaN</td>\n",
       "      <td>NaN</td>\n",
       "      <td>NaN</td>\n",
       "      <td>NaN</td>\n",
       "      <td>...</td>\n",
       "      <td>NaN</td>\n",
       "      <td>NaN</td>\n",
       "      <td>NaN</td>\n",
       "      <td>NaN</td>\n",
       "      <td>NaN</td>\n",
       "      <td>NaN</td>\n",
       "      <td>NaN</td>\n",
       "      <td>NaN</td>\n",
       "      <td>NaN</td>\n",
       "      <td>NaN</td>\n",
       "    </tr>\n",
       "    <tr>\n",
       "      <th>...</th>\n",
       "      <td>...</td>\n",
       "      <td>...</td>\n",
       "      <td>...</td>\n",
       "      <td>...</td>\n",
       "      <td>...</td>\n",
       "      <td>...</td>\n",
       "      <td>...</td>\n",
       "      <td>...</td>\n",
       "      <td>...</td>\n",
       "      <td>...</td>\n",
       "      <td>...</td>\n",
       "      <td>...</td>\n",
       "      <td>...</td>\n",
       "      <td>...</td>\n",
       "      <td>...</td>\n",
       "      <td>...</td>\n",
       "      <td>...</td>\n",
       "      <td>...</td>\n",
       "      <td>...</td>\n",
       "      <td>...</td>\n",
       "      <td>...</td>\n",
       "    </tr>\n",
       "    <tr>\n",
       "      <th>2021-01-25</th>\n",
       "      <td>NaN</td>\n",
       "      <td>NaN</td>\n",
       "      <td>NaN</td>\n",
       "      <td>NaN</td>\n",
       "      <td>NaN</td>\n",
       "      <td>NaN</td>\n",
       "      <td>NaN</td>\n",
       "      <td>NaN</td>\n",
       "      <td>NaN</td>\n",
       "      <td>NaN</td>\n",
       "      <td>...</td>\n",
       "      <td>NaN</td>\n",
       "      <td>NaN</td>\n",
       "      <td>NaN</td>\n",
       "      <td>NaN</td>\n",
       "      <td>NaN</td>\n",
       "      <td>NaN</td>\n",
       "      <td>NaN</td>\n",
       "      <td>NaN</td>\n",
       "      <td>NaN</td>\n",
       "      <td>NaN</td>\n",
       "    </tr>\n",
       "    <tr>\n",
       "      <th>2021-01-26</th>\n",
       "      <td>NaN</td>\n",
       "      <td>NaN</td>\n",
       "      <td>NaN</td>\n",
       "      <td>NaN</td>\n",
       "      <td>NaN</td>\n",
       "      <td>NaN</td>\n",
       "      <td>NaN</td>\n",
       "      <td>NaN</td>\n",
       "      <td>NaN</td>\n",
       "      <td>NaN</td>\n",
       "      <td>...</td>\n",
       "      <td>NaN</td>\n",
       "      <td>NaN</td>\n",
       "      <td>NaN</td>\n",
       "      <td>NaN</td>\n",
       "      <td>NaN</td>\n",
       "      <td>NaN</td>\n",
       "      <td>NaN</td>\n",
       "      <td>NaN</td>\n",
       "      <td>NaN</td>\n",
       "      <td>NaN</td>\n",
       "    </tr>\n",
       "    <tr>\n",
       "      <th>2021-01-27</th>\n",
       "      <td>NaN</td>\n",
       "      <td>NaN</td>\n",
       "      <td>NaN</td>\n",
       "      <td>NaN</td>\n",
       "      <td>NaN</td>\n",
       "      <td>NaN</td>\n",
       "      <td>NaN</td>\n",
       "      <td>NaN</td>\n",
       "      <td>NaN</td>\n",
       "      <td>NaN</td>\n",
       "      <td>...</td>\n",
       "      <td>NaN</td>\n",
       "      <td>NaN</td>\n",
       "      <td>NaN</td>\n",
       "      <td>NaN</td>\n",
       "      <td>NaN</td>\n",
       "      <td>NaN</td>\n",
       "      <td>NaN</td>\n",
       "      <td>NaN</td>\n",
       "      <td>NaN</td>\n",
       "      <td>NaN</td>\n",
       "    </tr>\n",
       "    <tr>\n",
       "      <th>2021-01-28</th>\n",
       "      <td>NaN</td>\n",
       "      <td>NaN</td>\n",
       "      <td>NaN</td>\n",
       "      <td>NaN</td>\n",
       "      <td>NaN</td>\n",
       "      <td>NaN</td>\n",
       "      <td>NaN</td>\n",
       "      <td>NaN</td>\n",
       "      <td>NaN</td>\n",
       "      <td>NaN</td>\n",
       "      <td>...</td>\n",
       "      <td>NaN</td>\n",
       "      <td>NaN</td>\n",
       "      <td>NaN</td>\n",
       "      <td>NaN</td>\n",
       "      <td>NaN</td>\n",
       "      <td>NaN</td>\n",
       "      <td>NaN</td>\n",
       "      <td>NaN</td>\n",
       "      <td>NaN</td>\n",
       "      <td>NaN</td>\n",
       "    </tr>\n",
       "    <tr>\n",
       "      <th>2021-01-29</th>\n",
       "      <td>NaN</td>\n",
       "      <td>NaN</td>\n",
       "      <td>NaN</td>\n",
       "      <td>NaN</td>\n",
       "      <td>NaN</td>\n",
       "      <td>NaN</td>\n",
       "      <td>NaN</td>\n",
       "      <td>NaN</td>\n",
       "      <td>NaN</td>\n",
       "      <td>NaN</td>\n",
       "      <td>...</td>\n",
       "      <td>NaN</td>\n",
       "      <td>NaN</td>\n",
       "      <td>NaN</td>\n",
       "      <td>NaN</td>\n",
       "      <td>NaN</td>\n",
       "      <td>NaN</td>\n",
       "      <td>NaN</td>\n",
       "      <td>NaN</td>\n",
       "      <td>NaN</td>\n",
       "      <td>NaN</td>\n",
       "    </tr>\n",
       "  </tbody>\n",
       "</table>\n",
       "<p>10552 rows × 218 columns</p>\n",
       "</div>"
      ],
      "text/plain": [
       "            CMI_prices  VNO_prices  TMO_prices  CMCSA_prices  AMD_prices  \\\n",
       "Date                                                                       \n",
       "1979-12-31         NaN         NaN         NaN           NaN         NaN   \n",
       "1980-01-02         NaN         NaN         NaN           NaN         NaN   \n",
       "1980-01-03         NaN         NaN         NaN           NaN         NaN   \n",
       "1980-01-04         NaN         NaN         NaN           NaN         NaN   \n",
       "1980-01-07         NaN         NaN         NaN           NaN         NaN   \n",
       "...                ...         ...         ...           ...         ...   \n",
       "2021-01-25         NaN         NaN         NaN           NaN         NaN   \n",
       "2021-01-26         NaN         NaN         NaN           NaN         NaN   \n",
       "2021-01-27         NaN         NaN         NaN           NaN         NaN   \n",
       "2021-01-28         NaN         NaN         NaN           NaN         NaN   \n",
       "2021-01-29         NaN         NaN         NaN           NaN         NaN   \n",
       "\n",
       "            NEM_prices  TPR_prices  BF-B_prices  BR_prices  BLK_prices  ...  \\\n",
       "Date                                                                    ...   \n",
       "1979-12-31         NaN         NaN          NaN        NaN         NaN  ...   \n",
       "1980-01-02         NaN         NaN          NaN        NaN         NaN  ...   \n",
       "1980-01-03         NaN         NaN          NaN        NaN         NaN  ...   \n",
       "1980-01-04         NaN         NaN          NaN        NaN         NaN  ...   \n",
       "1980-01-07         NaN         NaN          NaN        NaN         NaN  ...   \n",
       "...                ...         ...          ...        ...         ...  ...   \n",
       "2021-01-25         NaN         NaN          NaN        NaN         NaN  ...   \n",
       "2021-01-26         NaN         NaN          NaN        NaN         NaN  ...   \n",
       "2021-01-27         NaN         NaN          NaN        NaN         NaN  ...   \n",
       "2021-01-28         NaN         NaN          NaN        NaN         NaN  ...   \n",
       "2021-01-29         NaN         NaN          NaN        NaN         NaN  ...   \n",
       "\n",
       "            CAG_prices  WFC_prices  CRM_prices  CPB_prices  WY_prices  \\\n",
       "Date                                                                    \n",
       "1979-12-31         NaN         NaN         NaN         NaN        NaN   \n",
       "1980-01-02         NaN         NaN         NaN         NaN        NaN   \n",
       "1980-01-03         NaN         NaN         NaN         NaN        NaN   \n",
       "1980-01-04         NaN         NaN         NaN         NaN        NaN   \n",
       "1980-01-07         NaN         NaN         NaN         NaN        NaN   \n",
       "...                ...         ...         ...         ...        ...   \n",
       "2021-01-25         NaN         NaN         NaN         NaN        NaN   \n",
       "2021-01-26         NaN         NaN         NaN         NaN        NaN   \n",
       "2021-01-27         NaN         NaN         NaN         NaN        NaN   \n",
       "2021-01-28         NaN         NaN         NaN         NaN        NaN   \n",
       "2021-01-29         NaN         NaN         NaN         NaN        NaN   \n",
       "\n",
       "            VZ_prices  XRX_prices  WST_prices  VRSN_prices  NVDA_prices  \n",
       "Date                                                                     \n",
       "1979-12-31        NaN         NaN         NaN          NaN          NaN  \n",
       "1980-01-02        NaN         NaN         NaN          NaN          NaN  \n",
       "1980-01-03        NaN         NaN         NaN          NaN          NaN  \n",
       "1980-01-04        NaN         NaN         NaN          NaN          NaN  \n",
       "1980-01-07        NaN         NaN         NaN          NaN          NaN  \n",
       "...               ...         ...         ...          ...          ...  \n",
       "2021-01-25        NaN         NaN         NaN          NaN          NaN  \n",
       "2021-01-26        NaN         NaN         NaN          NaN          NaN  \n",
       "2021-01-27        NaN         NaN         NaN          NaN          NaN  \n",
       "2021-01-28        NaN         NaN         NaN          NaN          NaN  \n",
       "2021-01-29        NaN         NaN         NaN          NaN          NaN  \n",
       "\n",
       "[10552 rows x 218 columns]"
      ]
     },
     "execution_count": 4,
     "metadata": {},
     "output_type": "execute_result"
    }
   ],
   "source": [
    "#sim.run(defined_subset=['AKAM_prices'])\n",
    "#sim.run(defined_subset=['AKAM_prices', 'MSI_prices'])\n",
    "sim.run()"
   ]
  },
  {
   "cell_type": "code",
   "execution_count": 5,
   "metadata": {},
   "outputs": [
    {
     "data": {
      "image/png": "[encoded data removed]",
      "text/plain": [
       "<Figure size 432x288 with 1 Axes>"
      ]
     },
     "metadata": {
      "needs_background": "light"
     },
     "output_type": "display_data"
    },
    {
     "data": {
      "image/png": "[encoded data removed]",
      "text/plain": [
       "<Figure size 432x288 with 1 Axes>"
      ]
     },
     "metadata": {
      "needs_background": "light"
     },
     "output_type": "display_data"
    },
    {
     "data": {
      "image/png": "[encoded data removed]",
      "text/plain": [
       "<Figure size 432x288 with 1 Axes>"
      ]
     },
     "metadata": {
      "needs_background": "light"
     },
     "output_type": "display_data"
    },
    {
     "data": {
      "image/png": "[encoded data removed]",
      "text/plain": [
       "<Figure size 432x288 with 1 Axes>"
      ]
     },
     "metadata": {
      "needs_background": "light"
     },
     "output_type": "display_data"
    },
    {
     "data": {
      "image/png": "[encoded data removed]",
      "text/plain": [
       "<Figure size 432x288 with 1 Axes>"
      ]
     },
     "metadata": {
      "needs_background": "light"
     },
     "output_type": "display_data"
    },
    {
     "data": {
      "image/png": "[encoded data removed]",
      "text/plain": [
       "<Figure size 432x288 with 1 Axes>"
      ]
     },
     "metadata": {
      "needs_background": "light"
     },
     "output_type": "display_data"
    }
   ],
   "source": [
    "PLOT_LIMIT = 5\n",
    "\n",
    "for k, stock in enumerate(sim.payouts):\n",
    "    payouts = sim.payouts[~sim.sigmas[stock].isna()][stock]\n",
    "    normed_stock_prices = sim.prices[~sim.sigmas[stock].isna()][stock]\n",
    "    normed_stock_prices -= normed_stock_prices.min()\n",
    "    normed_stock_prices /= normed_stock_prices.max()\n",
    "    normed_stock_prices *= payouts.max()\n",
    "    tag = 'WIN' if payouts.mean() > 0 else 'LOSS'\n",
    "    percentage_of_positive_days = (payouts > 0.0).sum() / len(payouts)\n",
    "    \n",
    "    if k <= PLOT_LIMIT:\n",
    "        fig = plt.subplots()\n",
    "        payouts.plot()\n",
    "        normed_stock_prices.plot()\n",
    "        plt.title(f'RoI = {payouts.mean():.2f} for {stock} ({tag}, {percentage_of_positive_days:.3f})')\n",
    "        plt.legend(['RoI', 'normed stock price'])"
   ]
  },
  {
   "cell_type": "code",
   "execution_count": 6,
   "metadata": {},
   "outputs": [
    {
     "data": {
      "text/plain": [
       "CMI_prices       8.499547\n",
       "VNO_prices       7.136802\n",
       "TMO_prices       1.041069\n",
       "CMCSA_prices    -0.853640\n",
       "AMD_prices       0.295142\n",
       "                  ...    \n",
       "VZ_prices       -0.747312\n",
       "XRX_prices      11.770159\n",
       "WST_prices      -0.767157\n",
       "VRSN_prices     -0.805542\n",
       "NVDA_prices     -0.624372\n",
       "Length: 218, dtype: float64"
      ]
     },
     "execution_count": 6,
     "metadata": {},
     "output_type": "execute_result"
    }
   ],
   "source": [
    "# RoI (in 1) per stock:\n",
    "sim.payouts.mean()"
   ]
  },
  {
   "cell_type": "code",
   "execution_count": 7,
   "metadata": {},
   "outputs": [
    {
     "data": {
      "text/plain": [
       "18.954472769364173"
      ]
     },
     "execution_count": 7,
     "metadata": {},
     "output_type": "execute_result"
    }
   ],
   "source": [
    "# Variation of RoI (in 1) = risk of picking only one stock:\n",
    "sim.payouts.mean().std()"
   ]
  },
  {
   "cell_type": "code",
   "execution_count": 8,
   "metadata": {},
   "outputs": [
    {
     "data": {
      "text/plain": [
       "4.961882501232193"
      ]
     },
     "execution_count": 8,
     "metadata": {},
     "output_type": "execute_result"
    }
   ],
   "source": [
    "# Total RoI (in 1) over all stocks:\n",
    "sim.payouts.mean().mean()"
   ]
  },
  {
   "cell_type": "code",
   "execution_count": 9,
   "metadata": {},
   "outputs": [
    {
     "name": "stdout",
     "output_type": "stream",
     "text": [
      "Share of winning days in %:\n",
      "CMI_prices: 2.3\n",
      "VNO_prices: 1.6\n",
      "TMO_prices: 2.0\n",
      "CMCSA_prices: 0.4\n",
      "AMD_prices: 10.9\n",
      "NEM_prices: 2.8\n",
      "TPR_prices: 3.6\n",
      "BF-B_prices: 0.0\n",
      "BR_prices: 1.5\n",
      "BLK_prices: 1.1\n",
      "DUK_prices: 0.0\n",
      "ZBRA_prices: 2.0\n",
      "D_prices: 0.0\n",
      "TSN_prices: 3.3\n",
      "TJX_prices: 1.5\n",
      "bp: 0.0\n",
      "LKQ_prices: 1.8\n",
      "CERN_prices: 4.4\n",
      "CINF_prices: 0.5\n",
      "AEE_prices: 0.0\n",
      "DXCM_prices: 5.8\n",
      "WDC_prices: 8.8\n",
      "WMT_prices: 0.3\n",
      "CMS_prices: 2.2\n",
      "AOS_prices: 1.9\n",
      "WELL_prices: 0.6\n",
      "BEN_prices: 1.5\n",
      "AVGO_prices: 0.3\n",
      "CFG_prices: 3.3\n",
      "CBOE_prices: 0.2\n",
      "BAX_prices: 0.7\n",
      "AAP_prices: 1.2\n",
      "CMG_prices: 3.3\n",
      "TFX_prices: 0.8\n",
      "NI_prices: 0.0\n",
      "VRTX_prices: 5.2\n",
      "TSCO_prices: 1.6\n",
      "CHD_prices: 0.4\n",
      "AEP_prices: 0.0\n",
      "BIIB_prices: 4.7\n",
      "LH_prices: 3.2\n",
      "XRAY_prices: 0.9\n",
      "ADP_prices: 0.2\n",
      "BBY_prices: 7.4\n",
      "NEE_prices: 0.0\n",
      "AMAT_prices: 4.6\n",
      "CPRT_prices: 2.8\n",
      "WBA_prices: 0.3\n",
      "BXP_prices: 2.3\n",
      "AMZN_prices: 3.6\n",
      "ABMD_prices: 5.3\n",
      "WM_prices: 1.2\n",
      "ABT_prices: 0.2\n",
      "NKE_prices: 0.7\n",
      "db: 0.0\n",
      "NOW_prices: 1.2\n",
      "CF_prices: 4.3\n",
      "DRE_prices: 1.8\n",
      "AAPL_prices: 5.2\n",
      "NWSA_prices: 0.0\n",
      "ALL_prices: 1.6\n",
      "VTR_prices: 4.3\n",
      "NVR_prices: 4.6\n",
      "AMP_prices: 3.2\n",
      "DXC_prices: 3.1\n",
      "NTRS_prices: 0.7\n",
      "APD_prices: 0.9\n",
      "CAT_prices: 1.2\n",
      "NOC_prices: 1.6\n",
      "FUJITSULTD_prices: 4.9\n",
      "AFL_prices: 1.2\n",
      "A_prices: 4.4\n",
      "ALK_prices: 2.5\n",
      "DPZ_prices: 3.0\n",
      "ADM_prices: 0.8\n",
      "WRK_prices: 5.3\n",
      "NUE_prices: 1.4\n",
      "AVB_prices: 0.6\n",
      "ALXN_prices: 4.0\n",
      "KAWASAKIHEAVYINDUSTRIESLTD_prices: 4.6\n",
      "MTD_prices: 0.8\n",
      "COP_prices: 1.7\n",
      "CNC_prices: 2.5\n",
      "HITACHILTD_prices: 3.5\n",
      "MSI_prices: 2.9\n",
      "BMY_prices: 0.8\n",
      "AMCR_prices: 0.0\n",
      "AIZ_prices: 1.8\n",
      "BKNG_prices: 7.1\n",
      "COO_prices: 5.8\n",
      "WMB_prices: 3.5\n",
      "ATVI_prices: 3.9\n",
      "TMUS_prices: 5.8\n",
      "LNC_prices: 2.7\n",
      "APTV_prices: 1.3\n",
      "WEC_prices: 0.0\n",
      "AES_prices: 5.7\n",
      "BLL_prices: 0.1\n",
      "MXIM_prices: 1.8\n",
      "APA_prices: 3.1\n",
      "CHRW_prices: 0.1\n",
      "ADSK_prices: 4.6\n",
      "ZION_prices: 2.5\n",
      "CE_prices: 3.0\n",
      "CB_prices: 1.3\n",
      "LLY_prices: 0.3\n",
      "TROW_prices: 1.8\n",
      "MTB_prices: 1.1\n",
      "NWL_prices: 2.9\n",
      "WAB_prices: 3.0\n",
      "CDNS_prices: 5.4\n",
      "ABBV_prices: 0.0\n",
      "WHR_prices: 2.5\n",
      "ANTM_prices: 1.5\n",
      "XEL_prices: 0.0\n",
      "ADBE_prices: 4.7\n",
      "ZTS_prices: 0.0\n",
      "BDX_prices: 0.2\n",
      "BA_prices: 1.8\n",
      "V_prices: 0.5\n",
      "DRI_prices: 2.6\n",
      "XLNX_prices: 3.0\n",
      "BKR_prices: 4.3\n",
      "AZO_prices: 0.5\n",
      "BAC_prices: 3.1\n",
      "XOM_prices: 0.4\n",
      "ALLE_prices: 0.0\n",
      "crzby: 0.0\n",
      "CBRE_prices: 6.4\n",
      "VRSK_prices: 0.0\n",
      "AAL_prices: 9.7\n",
      "AKAM_prices: 9.1\n",
      "BWA_prices: 1.8\n",
      "AWK_prices: 0.0\n",
      "TRV_prices: 0.5\n",
      "WLTW_prices: 0.2\n",
      "AMGN_prices: 1.3\n",
      "CAH_prices: 1.4\n",
      "TSLA_prices: 0.8\n",
      "NSC_prices: 1.0\n",
      "WRB_prices: 0.4\n",
      "ABC_prices: 1.0\n",
      "NTAP_prices: 6.1\n",
      "TGT_prices: 0.5\n",
      "COF_prices: 3.7\n",
      "DVA_prices: 3.5\n",
      "AON_prices: 1.0\n",
      "LIN_prices: 0.7\n",
      "CCL_prices: 2.9\n",
      "XYL_prices: 0.2\n",
      "BK_prices: 0.5\n",
      "CCI_prices: 5.0\n",
      "ARE_prices: 1.5\n",
      "NFLX_prices: 4.5\n",
      "BSX_prices: 3.7\n",
      "ZBH_prices: 1.4\n",
      "JAPANTOBACCOINC_prices: 1.0\n",
      "DVN_prices: 3.9\n",
      "ADI_prices: 3.1\n",
      "NLSN_prices: 1.7\n",
      "LMT_prices: 1.5\n",
      "APH_prices: 2.1\n",
      "C_prices: 3.9\n",
      "WYNN_prices: 5.3\n",
      "BRK-B_prices: 0.1\n",
      "COST_prices: 1.8\n",
      "AXP_prices: 2.3\n",
      "CL_prices: 0.0\n",
      "MS_prices: 3.0\n",
      "WU_prices: 2.0\n",
      "COG_prices: 2.1\n",
      "NCLH_prices: 3.7\n",
      "YUM_prices: 1.1\n",
      "ACN_prices: 0.4\n",
      "AME_prices: 0.9\n",
      "ANET_prices: 0.0\n",
      "MSFT_prices: 0.4\n",
      "WAT_prices: 2.3\n",
      "AMT_prices: 5.0\n",
      "NOV_prices: 5.7\n",
      "ALB_prices: 1.7\n",
      "CME_prices: 1.9\n",
      "DTE_prices: 0.0\n",
      "MRO_prices: 2.7\n",
      "AIG_prices: 3.2\n",
      "MU_prices: 9.9\n",
      "T_prices: 0.1\n",
      "MSCI_prices: 1.8\n",
      "AVY_prices: 1.5\n",
      "CDW_prices: 0.8\n",
      "CLX_prices: 0.3\n",
      "ANSS_prices: 2.0\n",
      "ATO_prices: 0.0\n",
      "NDAQ_prices: 2.2\n",
      "ODFL_prices: 0.7\n",
      "CMA_prices: 1.5\n",
      "NLOK_prices: 4.2\n",
      "ALGN_prices: 7.0\n",
      "VTRS_prices: 3.6\n",
      "CI_prices: 1.4\n",
      "CNP_prices: 0.7\n",
      "CHTR_prices: 0.0\n",
      "BIO_prices: 1.7\n",
      "AJG_prices: 0.3\n",
      "NWS_prices: 0.0\n",
      "LHX_prices: 1.8\n",
      "NRG_prices: 2.9\n",
      "dtegy: 0.0\n",
      "CAG_prices: 0.8\n",
      "WFC_prices: 1.2\n",
      "CRM_prices: 2.0\n",
      "CPB_prices: 0.3\n",
      "WY_prices: 2.2\n",
      "VZ_prices: 0.0\n",
      "XRX_prices: 3.6\n",
      "WST_prices: 0.4\n",
      "VRSN_prices: 4.7\n",
      "NVDA_prices: 7.7\n"
     ]
    }
   ],
   "source": [
    "# Share of worthwhile days / share of loss days:\n",
    "print('Share of winning days in %:')\n",
    "for stock in sim.payouts:\n",
    "    payouts = sim.payouts[~sim.sigmas[stock].isna()][stock]\n",
    "    percentage_of_positive_days = (payouts > 0.0).sum() / len(payouts)\n",
    "    print(f'{stock}: {percentage_of_positive_days * 100:.1f}')"
   ]
  },
  {
   "cell_type": "code",
   "execution_count": 10,
   "metadata": {},
   "outputs": [
    {
     "name": "stdout",
     "output_type": "stream",
     "text": [
      "48.2 % of stocks were winners.\n"
     ]
    }
   ],
   "source": [
    "# Share of winning stocks:\n",
    "print(f'{100 * (sim.payouts.mean() > 0).sum() / len(sim.payouts.columns):.1f} % of stocks were winners.')"
   ]
  },
  {
   "cell_type": "code",
   "execution_count": 11,
   "metadata": {},
   "outputs": [
    {
     "name": "stdout",
     "output_type": "stream",
     "text": [
      "0.0 % of stocks had less than 50% total loss days.\n"
     ]
    },
    {
     "name": "stderr",
     "output_type": "stream",
     "text": [
      "/usr/local/lib/python3.8/dist-packages/numpy/lib/nanfunctions.py:995: RuntimeWarning: All-NaN slice encountered\n",
      "  result = np.apply_along_axis(_nanmedian1d, axis, a, overwrite_input)\n"
     ]
    }
   ],
   "source": [
    "# What ratio of stocks has a median pay-out that is higher than a total loss?\n",
    "print(f'{100 * (sim.payouts.median() > -1.0).sum() / len(sim.payouts.columns):.1f} % of stocks had less than 50% total loss days.')"
   ]
  },
  {
   "cell_type": "markdown",
   "metadata": {},
   "source": [
    "# Time-wise locality of winnings"
   ]
  },
  {
   "cell_type": "code",
   "execution_count": 12,
   "metadata": {},
   "outputs": [],
   "source": [
    "# How tightly clustered are the winnings, i.e. are all winnings coming from only one lucky spell, \n",
    "# or are opportunities equally distributed? (If they are too tightly clustered, it means that we would\n",
    "# have to spread our assets on more stocks and it would be more likely to get rich or die trying)."
   ]
  },
  {
   "cell_type": "code",
   "execution_count": null,
   "metadata": {},
   "outputs": [],
   "source": []
  },
  {
   "cell_type": "code",
   "execution_count": 13,
   "metadata": {},
   "outputs": [],
   "source": [
    "# Cluster the win-chance by averaging month-wise and year-wise."
   ]
  },
  {
   "cell_type": "code",
   "execution_count": null,
   "metadata": {},
   "outputs": [],
   "source": []
  },
  {
   "cell_type": "markdown",
   "metadata": {},
   "source": [
    "# Hyperparameter search\n",
    "Test the expected results for various out-of-money factors and horizons."
   ]
  },
  {
   "cell_type": "code",
   "execution_count": 14,
   "metadata": {},
   "outputs": [],
   "source": [
    "# Define a scoring function over the payouts:\n",
    "def hyper_score(sim):\n",
    "    return sim.payouts.mean().mean()"
   ]
  },
  {
   "cell_type": "code",
   "execution_count": 16,
   "metadata": {},
   "outputs": [],
   "source": [
    "# Parameters:\n",
    "hyper_oom = np.linspace(0.3, 1.3, 11)\n",
    "hyper_horizon = np.linspace(63, 252, 5, dtype=int)"
   ]
  },
  {
   "cell_type": "code",
   "execution_count": 17,
   "metadata": {
    "scrolled": true
   },
   "outputs": [
    {
     "name": "stderr",
     "output_type": "stream",
     "text": [
      "\r",
      "  0%|          | 0/218 [00:00<?, ?it/s]"
     ]
    },
    {
     "name": "stdout",
     "output_type": "stream",
     "text": [
      "Loaded 220 stocks from /home/notger-heinz/projects_and_analysis/black_swan_strategy/prices.\n",
      "2 stocks were rejected for reason of having less than 1000 entries.\n",
      "After filtering out 4192 rows with weird date formats, 10552 rows remain.\n",
      "After removal of discontinuous stock price lists was skipped, 218 stocks are left.\n",
      "\n"
     ]
    },
    {
     "name": "stderr",
     "output_type": "stream",
     "text": [
      "100%|██████████| 218/218 [01:59<00:00,  1.83it/s]"
     ]
    },
    {
     "name": "stdout",
     "output_type": "stream",
     "text": [
      "Finished calculating the yearly sigmas.\n"
     ]
    },
    {
     "name": "stderr",
     "output_type": "stream",
     "text": [
      "\n"
     ]
    },
    {
     "data": {
      "application/vnd.jupyter.widget-view+json": {
       "model_id": "49b0bd621b45497a8658a5a2d813c9ea",
       "version_major": 2,
       "version_minor": 0
      },
      "text/plain": [
       "HBox(children=(HTML(value=''), FloatProgress(value=0.0, max=218.0), HTML(value='')))"
      ]
     },
     "metadata": {},
     "output_type": "display_data"
    },
    {
     "name": "stdout",
     "output_type": "stream",
     "text": [
      "\n"
     ]
    },
    {
     "name": "stderr",
     "output_type": "stream",
     "text": [
      "\r",
      "  0%|          | 0/218 [00:00<?, ?it/s]"
     ]
    },
    {
     "name": "stdout",
     "output_type": "stream",
     "text": [
      "Loaded 220 stocks from /home/notger-heinz/projects_and_analysis/black_swan_strategy/prices.\n",
      "2 stocks were rejected for reason of having less than 1000 entries.\n",
      "After filtering out 4192 rows with weird date formats, 10552 rows remain.\n",
      "After removal of discontinuous stock price lists was skipped, 218 stocks are left.\n",
      "\n"
     ]
    },
    {
     "name": "stderr",
     "output_type": "stream",
     "text": [
      "100%|██████████| 218/218 [02:08<00:00,  1.69it/s]"
     ]
    },
    {
     "name": "stdout",
     "output_type": "stream",
     "text": [
      "Finished calculating the yearly sigmas.\n"
     ]
    },
    {
     "name": "stderr",
     "output_type": "stream",
     "text": [
      "\n"
     ]
    },
    {
     "data": {
      "application/vnd.jupyter.widget-view+json": {
       "model_id": "17d980a93f1c4c6ba1f53562c27733b5",
       "version_major": 2,
       "version_minor": 0
      },
      "text/plain": [
       "HBox(children=(HTML(value=''), FloatProgress(value=0.0, max=218.0), HTML(value='')))"
      ]
     },
     "metadata": {},
     "output_type": "display_data"
    },
    {
     "name": "stdout",
     "output_type": "stream",
     "text": [
      "\n"
     ]
    },
    {
     "name": "stderr",
     "output_type": "stream",
     "text": [
      "\r",
      "  0%|          | 0/218 [00:00<?, ?it/s]"
     ]
    },
    {
     "name": "stdout",
     "output_type": "stream",
     "text": [
      "Loaded 220 stocks from /home/notger-heinz/projects_and_analysis/black_swan_strategy/prices.\n",
      "2 stocks were rejected for reason of having less than 1000 entries.\n",
      "After filtering out 4192 rows with weird date formats, 10552 rows remain.\n",
      "After removal of discontinuous stock price lists was skipped, 218 stocks are left.\n",
      "\n"
     ]
    },
    {
     "name": "stderr",
     "output_type": "stream",
     "text": [
      "100%|██████████| 218/218 [01:47<00:00,  2.03it/s]"
     ]
    },
    {
     "name": "stdout",
     "output_type": "stream",
     "text": [
      "Finished calculating the yearly sigmas.\n"
     ]
    },
    {
     "name": "stderr",
     "output_type": "stream",
     "text": [
      "\n"
     ]
    },
    {
     "data": {
      "application/vnd.jupyter.widget-view+json": {
       "model_id": "08d2a8e720f44c64a4da3adc4ab0ee87",
       "version_major": 2,
       "version_minor": 0
      },
      "text/plain": [
       "HBox(children=(HTML(value=''), FloatProgress(value=0.0, max=218.0), HTML(value='')))"
      ]
     },
     "metadata": {},
     "output_type": "display_data"
    },
    {
     "name": "stdout",
     "output_type": "stream",
     "text": [
      "\n"
     ]
    },
    {
     "name": "stderr",
     "output_type": "stream",
     "text": [
      "\r",
      "  0%|          | 0/218 [00:00<?, ?it/s]"
     ]
    },
    {
     "name": "stdout",
     "output_type": "stream",
     "text": [
      "Loaded 220 stocks from /home/notger-heinz/projects_and_analysis/black_swan_strategy/prices.\n",
      "2 stocks were rejected for reason of having less than 1000 entries.\n",
      "After filtering out 4192 rows with weird date formats, 10552 rows remain.\n",
      "After removal of discontinuous stock price lists was skipped, 218 stocks are left.\n",
      "\n"
     ]
    },
    {
     "name": "stderr",
     "output_type": "stream",
     "text": [
      "100%|██████████| 218/218 [01:46<00:00,  2.05it/s]"
     ]
    },
    {
     "name": "stdout",
     "output_type": "stream",
     "text": [
      "Finished calculating the yearly sigmas.\n"
     ]
    },
    {
     "name": "stderr",
     "output_type": "stream",
     "text": [
      "\n"
     ]
    },
    {
     "data": {
      "application/vnd.jupyter.widget-view+json": {
       "model_id": "062816becf03408b90641e7d8b52cabf",
       "version_major": 2,
       "version_minor": 0
      },
      "text/plain": [
       "HBox(children=(HTML(value=''), FloatProgress(value=0.0, max=218.0), HTML(value='')))"
      ]
     },
     "metadata": {},
     "output_type": "display_data"
    },
    {
     "name": "stdout",
     "output_type": "stream",
     "text": [
      "\n"
     ]
    },
    {
     "name": "stderr",
     "output_type": "stream",
     "text": [
      "\r",
      "  0%|          | 0/218 [00:00<?, ?it/s]"
     ]
    },
    {
     "name": "stdout",
     "output_type": "stream",
     "text": [
      "Loaded 220 stocks from /home/notger-heinz/projects_and_analysis/black_swan_strategy/prices.\n",
      "2 stocks were rejected for reason of having less than 1000 entries.\n",
      "After filtering out 4192 rows with weird date formats, 10552 rows remain.\n",
      "After removal of discontinuous stock price lists was skipped, 218 stocks are left.\n",
      "\n"
     ]
    },
    {
     "name": "stderr",
     "output_type": "stream",
     "text": [
      "100%|██████████| 218/218 [01:48<00:00,  2.00it/s]"
     ]
    },
    {
     "name": "stdout",
     "output_type": "stream",
     "text": [
      "Finished calculating the yearly sigmas.\n"
     ]
    },
    {
     "name": "stderr",
     "output_type": "stream",
     "text": [
      "\n"
     ]
    },
    {
     "data": {
      "application/vnd.jupyter.widget-view+json": {
       "model_id": "f2b88392806043ecb8cdce2126b68c60",
       "version_major": 2,
       "version_minor": 0
      },
      "text/plain": [
       "HBox(children=(HTML(value=''), FloatProgress(value=0.0, max=218.0), HTML(value='')))"
      ]
     },
     "metadata": {},
     "output_type": "display_data"
    },
    {
     "name": "stdout",
     "output_type": "stream",
     "text": [
      "\n"
     ]
    },
    {
     "name": "stderr",
     "output_type": "stream",
     "text": [
      "\r",
      "  0%|          | 0/218 [00:00<?, ?it/s]"
     ]
    },
    {
     "name": "stdout",
     "output_type": "stream",
     "text": [
      "Loaded 220 stocks from /home/notger-heinz/projects_and_analysis/black_swan_strategy/prices.\n",
      "2 stocks were rejected for reason of having less than 1000 entries.\n",
      "After filtering out 4192 rows with weird date formats, 10552 rows remain.\n",
      "After removal of discontinuous stock price lists was skipped, 218 stocks are left.\n",
      "\n"
     ]
    },
    {
     "name": "stderr",
     "output_type": "stream",
     "text": [
      "100%|██████████| 218/218 [01:42<00:00,  2.12it/s]"
     ]
    },
    {
     "name": "stdout",
     "output_type": "stream",
     "text": [
      "Finished calculating the yearly sigmas.\n"
     ]
    },
    {
     "name": "stderr",
     "output_type": "stream",
     "text": [
      "\n"
     ]
    },
    {
     "data": {
      "application/vnd.jupyter.widget-view+json": {
       "model_id": "f7de8ab4e4b5436f93e49934e8408628",
       "version_major": 2,
       "version_minor": 0
      },
      "text/plain": [
       "HBox(children=(HTML(value=''), FloatProgress(value=0.0, max=218.0), HTML(value='')))"
      ]
     },
     "metadata": {},
     "output_type": "display_data"
    },
    {
     "name": "stdout",
     "output_type": "stream",
     "text": [
      "\n"
     ]
    },
    {
     "name": "stderr",
     "output_type": "stream",
     "text": [
      "\r",
      "  0%|          | 0/218 [00:00<?, ?it/s]"
     ]
    },
    {
     "name": "stdout",
     "output_type": "stream",
     "text": [
      "Loaded 220 stocks from /home/notger-heinz/projects_and_analysis/black_swan_strategy/prices.\n",
      "2 stocks were rejected for reason of having less than 1000 entries.\n",
      "After filtering out 4192 rows with weird date formats, 10552 rows remain.\n",
      "After removal of discontinuous stock price lists was skipped, 218 stocks are left.\n",
      "\n"
     ]
    },
    {
     "name": "stderr",
     "output_type": "stream",
     "text": [
      "100%|██████████| 218/218 [01:50<00:00,  1.97it/s]"
     ]
    },
    {
     "name": "stdout",
     "output_type": "stream",
     "text": [
      "Finished calculating the yearly sigmas.\n"
     ]
    },
    {
     "name": "stderr",
     "output_type": "stream",
     "text": [
      "\n"
     ]
    },
    {
     "data": {
      "application/vnd.jupyter.widget-view+json": {
       "model_id": "2ce11f50fdd242be9ea724367063b516",
       "version_major": 2,
       "version_minor": 0
      },
      "text/plain": [
       "HBox(children=(HTML(value=''), FloatProgress(value=0.0, max=218.0), HTML(value='')))"
      ]
     },
     "metadata": {},
     "output_type": "display_data"
    },
    {
     "name": "stdout",
     "output_type": "stream",
     "text": [
      "\n"
     ]
    },
    {
     "name": "stderr",
     "output_type": "stream",
     "text": [
      "\r",
      "  0%|          | 0/218 [00:00<?, ?it/s]"
     ]
    },
    {
     "name": "stdout",
     "output_type": "stream",
     "text": [
      "Loaded 220 stocks from /home/notger-heinz/projects_and_analysis/black_swan_strategy/prices.\n",
      "2 stocks were rejected for reason of having less than 1000 entries.\n",
      "After filtering out 4192 rows with weird date formats, 10552 rows remain.\n",
      "After removal of discontinuous stock price lists was skipped, 218 stocks are left.\n",
      "\n"
     ]
    },
    {
     "name": "stderr",
     "output_type": "stream",
     "text": [
      "100%|██████████| 218/218 [01:43<00:00,  2.11it/s]"
     ]
    },
    {
     "name": "stdout",
     "output_type": "stream",
     "text": [
      "Finished calculating the yearly sigmas.\n"
     ]
    },
    {
     "name": "stderr",
     "output_type": "stream",
     "text": [
      "\n"
     ]
    },
    {
     "data": {
      "application/vnd.jupyter.widget-view+json": {
       "model_id": "24e0ecae519d45c7adf089fe16b306a6",
       "version_major": 2,
       "version_minor": 0
      },
      "text/plain": [
       "HBox(children=(HTML(value=''), FloatProgress(value=0.0, max=218.0), HTML(value='')))"
      ]
     },
     "metadata": {},
     "output_type": "display_data"
    },
    {
     "name": "stdout",
     "output_type": "stream",
     "text": [
      "\n"
     ]
    },
    {
     "name": "stderr",
     "output_type": "stream",
     "text": [
      "\r",
      "  0%|          | 0/218 [00:00<?, ?it/s]"
     ]
    },
    {
     "name": "stdout",
     "output_type": "stream",
     "text": [
      "Loaded 220 stocks from /home/notger-heinz/projects_and_analysis/black_swan_strategy/prices.\n",
      "2 stocks were rejected for reason of having less than 1000 entries.\n",
      "After filtering out 4192 rows with weird date formats, 10552 rows remain.\n",
      "After removal of discontinuous stock price lists was skipped, 218 stocks are left.\n",
      "\n"
     ]
    },
    {
     "name": "stderr",
     "output_type": "stream",
     "text": [
      "100%|██████████| 218/218 [01:40<00:00,  2.16it/s]"
     ]
    },
    {
     "name": "stdout",
     "output_type": "stream",
     "text": [
      "Finished calculating the yearly sigmas.\n"
     ]
    },
    {
     "name": "stderr",
     "output_type": "stream",
     "text": [
      "\n"
     ]
    },
    {
     "data": {
      "application/vnd.jupyter.widget-view+json": {
       "model_id": "1e3d2dea70c94df9a18e20e5d28a05d7",
       "version_major": 2,
       "version_minor": 0
      },
      "text/plain": [
       "HBox(children=(HTML(value=''), FloatProgress(value=0.0, max=218.0), HTML(value='')))"
      ]
     },
     "metadata": {},
     "output_type": "display_data"
    },
    {
     "name": "stdout",
     "output_type": "stream",
     "text": [
      "\n"
     ]
    },
    {
     "name": "stderr",
     "output_type": "stream",
     "text": [
      "\r",
      "  0%|          | 0/218 [00:00<?, ?it/s]"
     ]
    },
    {
     "name": "stdout",
     "output_type": "stream",
     "text": [
      "Loaded 220 stocks from /home/notger-heinz/projects_and_analysis/black_swan_strategy/prices.\n",
      "2 stocks were rejected for reason of having less than 1000 entries.\n",
      "After filtering out 4192 rows with weird date formats, 10552 rows remain.\n",
      "After removal of discontinuous stock price lists was skipped, 218 stocks are left.\n",
      "\n"
     ]
    },
    {
     "name": "stderr",
     "output_type": "stream",
     "text": [
      "100%|██████████| 218/218 [01:45<00:00,  2.07it/s]"
     ]
    },
    {
     "name": "stdout",
     "output_type": "stream",
     "text": [
      "Finished calculating the yearly sigmas.\n"
     ]
    },
    {
     "name": "stderr",
     "output_type": "stream",
     "text": [
      "\n"
     ]
    },
    {
     "data": {
      "application/vnd.jupyter.widget-view+json": {
       "model_id": "d48dc3f421684162ae3a13806a68688a",
       "version_major": 2,
       "version_minor": 0
      },
      "text/plain": [
       "HBox(children=(HTML(value=''), FloatProgress(value=0.0, max=218.0), HTML(value='')))"
      ]
     },
     "metadata": {},
     "output_type": "display_data"
    },
    {
     "name": "stdout",
     "output_type": "stream",
     "text": [
      "\n"
     ]
    },
    {
     "name": "stderr",
     "output_type": "stream",
     "text": [
      "\r",
      "  0%|          | 0/218 [00:00<?, ?it/s]"
     ]
    },
    {
     "name": "stdout",
     "output_type": "stream",
     "text": [
      "Loaded 220 stocks from /home/notger-heinz/projects_and_analysis/black_swan_strategy/prices.\n",
      "2 stocks were rejected for reason of having less than 1000 entries.\n",
      "After filtering out 4192 rows with weird date formats, 10552 rows remain.\n",
      "After removal of discontinuous stock price lists was skipped, 218 stocks are left.\n",
      "\n"
     ]
    },
    {
     "name": "stderr",
     "output_type": "stream",
     "text": [
      "100%|██████████| 218/218 [01:51<00:00,  1.96it/s]"
     ]
    },
    {
     "name": "stdout",
     "output_type": "stream",
     "text": [
      "Finished calculating the yearly sigmas.\n"
     ]
    },
    {
     "name": "stderr",
     "output_type": "stream",
     "text": [
      "\n"
     ]
    },
    {
     "data": {
      "application/vnd.jupyter.widget-view+json": {
       "model_id": "e1529c4da332423fa8cb5f559a823585",
       "version_major": 2,
       "version_minor": 0
      },
      "text/plain": [
       "HBox(children=(HTML(value=''), FloatProgress(value=0.0, max=218.0), HTML(value='')))"
      ]
     },
     "metadata": {},
     "output_type": "display_data"
    },
    {
     "name": "stdout",
     "output_type": "stream",
     "text": [
      "\n"
     ]
    },
    {
     "name": "stderr",
     "output_type": "stream",
     "text": [
      "\r",
      "  0%|          | 0/218 [00:00<?, ?it/s]"
     ]
    },
    {
     "name": "stdout",
     "output_type": "stream",
     "text": [
      "Loaded 220 stocks from /home/notger-heinz/projects_and_analysis/black_swan_strategy/prices.\n",
      "2 stocks were rejected for reason of having less than 1000 entries.\n",
      "After filtering out 4192 rows with weird date formats, 10552 rows remain.\n",
      "After removal of discontinuous stock price lists was skipped, 218 stocks are left.\n",
      "\n"
     ]
    },
    {
     "name": "stderr",
     "output_type": "stream",
     "text": [
      "100%|██████████| 218/218 [01:51<00:00,  1.96it/s]"
     ]
    },
    {
     "name": "stdout",
     "output_type": "stream",
     "text": [
      "Finished calculating the yearly sigmas.\n"
     ]
    },
    {
     "name": "stderr",
     "output_type": "stream",
     "text": [
      "\n"
     ]
    },
    {
     "data": {
      "application/vnd.jupyter.widget-view+json": {
       "model_id": "85319142aee44a8aa7b603ab45c4bf00",
       "version_major": 2,
       "version_minor": 0
      },
      "text/plain": [
       "HBox(children=(HTML(value=''), FloatProgress(value=0.0, max=218.0), HTML(value='')))"
      ]
     },
     "metadata": {},
     "output_type": "display_data"
    },
    {
     "name": "stdout",
     "output_type": "stream",
     "text": [
      "\n"
     ]
    },
    {
     "name": "stderr",
     "output_type": "stream",
     "text": [
      "\r",
      "  0%|          | 0/218 [00:00<?, ?it/s]"
     ]
    },
    {
     "name": "stdout",
     "output_type": "stream",
     "text": [
      "Loaded 220 stocks from /home/notger-heinz/projects_and_analysis/black_swan_strategy/prices.\n",
      "2 stocks were rejected for reason of having less than 1000 entries.\n",
      "After filtering out 4192 rows with weird date formats, 10552 rows remain.\n",
      "After removal of discontinuous stock price lists was skipped, 218 stocks are left.\n",
      "\n"
     ]
    },
    {
     "name": "stderr",
     "output_type": "stream",
     "text": [
      "100%|██████████| 218/218 [01:48<00:00,  2.01it/s]"
     ]
    },
    {
     "name": "stdout",
     "output_type": "stream",
     "text": [
      "Finished calculating the yearly sigmas.\n"
     ]
    },
    {
     "name": "stderr",
     "output_type": "stream",
     "text": [
      "\n"
     ]
    },
    {
     "data": {
      "application/vnd.jupyter.widget-view+json": {
       "model_id": "433b10cc1dc243a8a93c39b16ca42840",
       "version_major": 2,
       "version_minor": 0
      },
      "text/plain": [
       "HBox(children=(HTML(value=''), FloatProgress(value=0.0, max=218.0), HTML(value='')))"
      ]
     },
     "metadata": {},
     "output_type": "display_data"
    },
    {
     "name": "stdout",
     "output_type": "stream",
     "text": [
      "\n"
     ]
    },
    {
     "name": "stderr",
     "output_type": "stream",
     "text": [
      "\r",
      "  0%|          | 0/218 [00:00<?, ?it/s]"
     ]
    },
    {
     "name": "stdout",
     "output_type": "stream",
     "text": [
      "Loaded 220 stocks from /home/notger-heinz/projects_and_analysis/black_swan_strategy/prices.\n",
      "2 stocks were rejected for reason of having less than 1000 entries.\n",
      "After filtering out 4192 rows with weird date formats, 10552 rows remain.\n",
      "After removal of discontinuous stock price lists was skipped, 218 stocks are left.\n",
      "\n"
     ]
    },
    {
     "name": "stderr",
     "output_type": "stream",
     "text": [
      "100%|██████████| 218/218 [02:20<00:00,  1.55it/s]"
     ]
    },
    {
     "name": "stdout",
     "output_type": "stream",
     "text": [
      "Finished calculating the yearly sigmas.\n"
     ]
    },
    {
     "name": "stderr",
     "output_type": "stream",
     "text": [
      "\n"
     ]
    },
    {
     "data": {
      "application/vnd.jupyter.widget-view+json": {
       "model_id": "0d306c1d02ad4c1e8779313f164bf60b",
       "version_major": 2,
       "version_minor": 0
      },
      "text/plain": [
       "HBox(children=(HTML(value=''), FloatProgress(value=0.0, max=218.0), HTML(value='')))"
      ]
     },
     "metadata": {},
     "output_type": "display_data"
    },
    {
     "name": "stdout",
     "output_type": "stream",
     "text": [
      "\n"
     ]
    },
    {
     "name": "stderr",
     "output_type": "stream",
     "text": [
      "\r",
      "  0%|          | 0/218 [00:00<?, ?it/s]"
     ]
    },
    {
     "name": "stdout",
     "output_type": "stream",
     "text": [
      "Loaded 220 stocks from /home/notger-heinz/projects_and_analysis/black_swan_strategy/prices.\n",
      "2 stocks were rejected for reason of having less than 1000 entries.\n",
      "After filtering out 4192 rows with weird date formats, 10552 rows remain.\n",
      "After removal of discontinuous stock price lists was skipped, 218 stocks are left.\n",
      "\n"
     ]
    },
    {
     "name": "stderr",
     "output_type": "stream",
     "text": [
      "100%|██████████| 218/218 [02:45<00:00,  1.32it/s]"
     ]
    },
    {
     "name": "stdout",
     "output_type": "stream",
     "text": [
      "Finished calculating the yearly sigmas.\n"
     ]
    },
    {
     "name": "stderr",
     "output_type": "stream",
     "text": [
      "\n"
     ]
    },
    {
     "data": {
      "application/vnd.jupyter.widget-view+json": {
       "model_id": "d5915225733b426f91dcb83fdfebf3ce",
       "version_major": 2,
       "version_minor": 0
      },
      "text/plain": [
       "HBox(children=(HTML(value=''), FloatProgress(value=0.0, max=218.0), HTML(value='')))"
      ]
     },
     "metadata": {},
     "output_type": "display_data"
    },
    {
     "name": "stdout",
     "output_type": "stream",
     "text": [
      "\n"
     ]
    },
    {
     "name": "stderr",
     "output_type": "stream",
     "text": [
      "\r",
      "  0%|          | 0/218 [00:00<?, ?it/s]"
     ]
    },
    {
     "name": "stdout",
     "output_type": "stream",
     "text": [
      "Loaded 220 stocks from /home/notger-heinz/projects_and_analysis/black_swan_strategy/prices.\n",
      "2 stocks were rejected for reason of having less than 1000 entries.\n",
      "After filtering out 4192 rows with weird date formats, 10552 rows remain.\n",
      "After removal of discontinuous stock price lists was skipped, 218 stocks are left.\n",
      "\n"
     ]
    },
    {
     "name": "stderr",
     "output_type": "stream",
     "text": [
      "100%|██████████| 218/218 [01:40<00:00,  2.17it/s]"
     ]
    },
    {
     "name": "stdout",
     "output_type": "stream",
     "text": [
      "Finished calculating the yearly sigmas.\n"
     ]
    },
    {
     "name": "stderr",
     "output_type": "stream",
     "text": [
      "\n"
     ]
    },
    {
     "data": {
      "application/vnd.jupyter.widget-view+json": {
       "model_id": "8579c0db5e4f43448567942323000f02",
       "version_major": 2,
       "version_minor": 0
      },
      "text/plain": [
       "HBox(children=(HTML(value=''), FloatProgress(value=0.0, max=218.0), HTML(value='')))"
      ]
     },
     "metadata": {},
     "output_type": "display_data"
    },
    {
     "name": "stdout",
     "output_type": "stream",
     "text": [
      "\n"
     ]
    },
    {
     "name": "stderr",
     "output_type": "stream",
     "text": [
      "\r",
      "  0%|          | 0/218 [00:00<?, ?it/s]"
     ]
    },
    {
     "name": "stdout",
     "output_type": "stream",
     "text": [
      "Loaded 220 stocks from /home/notger-heinz/projects_and_analysis/black_swan_strategy/prices.\n",
      "2 stocks were rejected for reason of having less than 1000 entries.\n",
      "After filtering out 4192 rows with weird date formats, 10552 rows remain.\n",
      "After removal of discontinuous stock price lists was skipped, 218 stocks are left.\n",
      "\n"
     ]
    },
    {
     "name": "stderr",
     "output_type": "stream",
     "text": [
      "100%|██████████| 218/218 [01:48<00:00,  2.01it/s]"
     ]
    },
    {
     "name": "stdout",
     "output_type": "stream",
     "text": [
      "Finished calculating the yearly sigmas.\n"
     ]
    },
    {
     "name": "stderr",
     "output_type": "stream",
     "text": [
      "\n"
     ]
    },
    {
     "data": {
      "application/vnd.jupyter.widget-view+json": {
       "model_id": "718f266e6a3043ba80b6739dd34642fe",
       "version_major": 2,
       "version_minor": 0
      },
      "text/plain": [
       "HBox(children=(HTML(value=''), FloatProgress(value=0.0, max=218.0), HTML(value='')))"
      ]
     },
     "metadata": {},
     "output_type": "display_data"
    },
    {
     "name": "stdout",
     "output_type": "stream",
     "text": [
      "\n"
     ]
    },
    {
     "name": "stderr",
     "output_type": "stream",
     "text": [
      "\r",
      "  0%|          | 0/218 [00:00<?, ?it/s]"
     ]
    },
    {
     "name": "stdout",
     "output_type": "stream",
     "text": [
      "Loaded 220 stocks from /home/notger-heinz/projects_and_analysis/black_swan_strategy/prices.\n",
      "2 stocks were rejected for reason of having less than 1000 entries.\n",
      "After filtering out 4192 rows with weird date formats, 10552 rows remain.\n",
      "After removal of discontinuous stock price lists was skipped, 218 stocks are left.\n",
      "\n"
     ]
    },
    {
     "name": "stderr",
     "output_type": "stream",
     "text": [
      "100%|██████████| 218/218 [01:36<00:00,  2.25it/s]"
     ]
    },
    {
     "name": "stdout",
     "output_type": "stream",
     "text": [
      "Finished calculating the yearly sigmas.\n"
     ]
    },
    {
     "name": "stderr",
     "output_type": "stream",
     "text": [
      "\n"
     ]
    },
    {
     "data": {
      "application/vnd.jupyter.widget-view+json": {
       "model_id": "a2b9332c85f74f3d9f398ce802217e1e",
       "version_major": 2,
       "version_minor": 0
      },
      "text/plain": [
       "HBox(children=(HTML(value=''), FloatProgress(value=0.0, max=218.0), HTML(value='')))"
      ]
     },
     "metadata": {},
     "output_type": "display_data"
    },
    {
     "name": "stdout",
     "output_type": "stream",
     "text": [
      "\n"
     ]
    },
    {
     "name": "stderr",
     "output_type": "stream",
     "text": [
      "\r",
      "  0%|          | 0/218 [00:00<?, ?it/s]"
     ]
    },
    {
     "name": "stdout",
     "output_type": "stream",
     "text": [
      "Loaded 220 stocks from /home/notger-heinz/projects_and_analysis/black_swan_strategy/prices.\n",
      "2 stocks were rejected for reason of having less than 1000 entries.\n",
      "After filtering out 4192 rows with weird date formats, 10552 rows remain.\n",
      "After removal of discontinuous stock price lists was skipped, 218 stocks are left.\n",
      "\n"
     ]
    },
    {
     "name": "stderr",
     "output_type": "stream",
     "text": [
      "100%|██████████| 218/218 [01:36<00:00,  2.26it/s]"
     ]
    },
    {
     "name": "stdout",
     "output_type": "stream",
     "text": [
      "Finished calculating the yearly sigmas.\n"
     ]
    },
    {
     "name": "stderr",
     "output_type": "stream",
     "text": [
      "\n"
     ]
    },
    {
     "data": {
      "application/vnd.jupyter.widget-view+json": {
       "model_id": "4fdff383c1104e2994da2dc6ff0efefd",
       "version_major": 2,
       "version_minor": 0
      },
      "text/plain": [
       "HBox(children=(HTML(value=''), FloatProgress(value=0.0, max=218.0), HTML(value='')))"
      ]
     },
     "metadata": {},
     "output_type": "display_data"
    },
    {
     "name": "stdout",
     "output_type": "stream",
     "text": [
      "\n"
     ]
    },
    {
     "name": "stderr",
     "output_type": "stream",
     "text": [
      "\r",
      "  0%|          | 0/218 [00:00<?, ?it/s]"
     ]
    },
    {
     "name": "stdout",
     "output_type": "stream",
     "text": [
      "Loaded 220 stocks from /home/notger-heinz/projects_and_analysis/black_swan_strategy/prices.\n",
      "2 stocks were rejected for reason of having less than 1000 entries.\n",
      "After filtering out 4192 rows with weird date formats, 10552 rows remain.\n",
      "After removal of discontinuous stock price lists was skipped, 218 stocks are left.\n",
      "\n"
     ]
    },
    {
     "name": "stderr",
     "output_type": "stream",
     "text": [
      "100%|██████████| 218/218 [01:37<00:00,  2.24it/s]"
     ]
    },
    {
     "name": "stdout",
     "output_type": "stream",
     "text": [
      "Finished calculating the yearly sigmas.\n"
     ]
    },
    {
     "name": "stderr",
     "output_type": "stream",
     "text": [
      "\n"
     ]
    },
    {
     "data": {
      "application/vnd.jupyter.widget-view+json": {
       "model_id": "c2f84a87a3094831b2a072a653922ec2",
       "version_major": 2,
       "version_minor": 0
      },
      "text/plain": [
       "HBox(children=(HTML(value=''), FloatProgress(value=0.0, max=218.0), HTML(value='')))"
      ]
     },
     "metadata": {},
     "output_type": "display_data"
    },
    {
     "name": "stdout",
     "output_type": "stream",
     "text": [
      "\n"
     ]
    },
    {
     "name": "stderr",
     "output_type": "stream",
     "text": [
      "\r",
      "  0%|          | 0/218 [00:00<?, ?it/s]"
     ]
    },
    {
     "name": "stdout",
     "output_type": "stream",
     "text": [
      "Loaded 220 stocks from /home/notger-heinz/projects_and_analysis/black_swan_strategy/prices.\n",
      "2 stocks were rejected for reason of having less than 1000 entries.\n",
      "After filtering out 4192 rows with weird date formats, 10552 rows remain.\n",
      "After removal of discontinuous stock price lists was skipped, 218 stocks are left.\n",
      "\n"
     ]
    },
    {
     "name": "stderr",
     "output_type": "stream",
     "text": [
      "100%|██████████| 218/218 [01:37<00:00,  2.25it/s]"
     ]
    },
    {
     "name": "stdout",
     "output_type": "stream",
     "text": [
      "Finished calculating the yearly sigmas.\n"
     ]
    },
    {
     "name": "stderr",
     "output_type": "stream",
     "text": [
      "\n"
     ]
    },
    {
     "data": {
      "application/vnd.jupyter.widget-view+json": {
       "model_id": "95eff1cd062f4abab6f5a424f410c91e",
       "version_major": 2,
       "version_minor": 0
      },
      "text/plain": [
       "HBox(children=(HTML(value=''), FloatProgress(value=0.0, max=218.0), HTML(value='')))"
      ]
     },
     "metadata": {},
     "output_type": "display_data"
    },
    {
     "name": "stdout",
     "output_type": "stream",
     "text": [
      "\n"
     ]
    },
    {
     "name": "stderr",
     "output_type": "stream",
     "text": [
      "\r",
      "  0%|          | 0/218 [00:00<?, ?it/s]"
     ]
    },
    {
     "name": "stdout",
     "output_type": "stream",
     "text": [
      "Loaded 220 stocks from /home/notger-heinz/projects_and_analysis/black_swan_strategy/prices.\n",
      "2 stocks were rejected for reason of having less than 1000 entries.\n",
      "After filtering out 4192 rows with weird date formats, 10552 rows remain.\n",
      "After removal of discontinuous stock price lists was skipped, 218 stocks are left.\n",
      "\n"
     ]
    },
    {
     "name": "stderr",
     "output_type": "stream",
     "text": [
      "100%|██████████| 218/218 [01:37<00:00,  2.23it/s]"
     ]
    },
    {
     "name": "stdout",
     "output_type": "stream",
     "text": [
      "Finished calculating the yearly sigmas.\n"
     ]
    },
    {
     "name": "stderr",
     "output_type": "stream",
     "text": [
      "\n"
     ]
    },
    {
     "data": {
      "application/vnd.jupyter.widget-view+json": {
       "model_id": "b4bb8620fe674537a3b34f3131fbf4fd",
       "version_major": 2,
       "version_minor": 0
      },
      "text/plain": [
       "HBox(children=(HTML(value=''), FloatProgress(value=0.0, max=218.0), HTML(value='')))"
      ]
     },
     "metadata": {},
     "output_type": "display_data"
    },
    {
     "name": "stdout",
     "output_type": "stream",
     "text": [
      "\n"
     ]
    },
    {
     "name": "stderr",
     "output_type": "stream",
     "text": [
      "\r",
      "  0%|          | 0/218 [00:00<?, ?it/s]"
     ]
    },
    {
     "name": "stdout",
     "output_type": "stream",
     "text": [
      "Loaded 220 stocks from /home/notger-heinz/projects_and_analysis/black_swan_strategy/prices.\n",
      "2 stocks were rejected for reason of having less than 1000 entries.\n",
      "After filtering out 4192 rows with weird date formats, 10552 rows remain.\n",
      "After removal of discontinuous stock price lists was skipped, 218 stocks are left.\n",
      "\n"
     ]
    },
    {
     "name": "stderr",
     "output_type": "stream",
     "text": [
      "100%|██████████| 218/218 [01:36<00:00,  2.26it/s]"
     ]
    },
    {
     "name": "stdout",
     "output_type": "stream",
     "text": [
      "Finished calculating the yearly sigmas.\n"
     ]
    },
    {
     "name": "stderr",
     "output_type": "stream",
     "text": [
      "\n"
     ]
    },
    {
     "data": {
      "application/vnd.jupyter.widget-view+json": {
       "model_id": "9e751197255a4f079479233ed5fd32ee",
       "version_major": 2,
       "version_minor": 0
      },
      "text/plain": [
       "HBox(children=(HTML(value=''), FloatProgress(value=0.0, max=218.0), HTML(value='')))"
      ]
     },
     "metadata": {},
     "output_type": "display_data"
    },
    {
     "name": "stdout",
     "output_type": "stream",
     "text": [
      "\n"
     ]
    },
    {
     "name": "stderr",
     "output_type": "stream",
     "text": [
      "\r",
      "  0%|          | 0/218 [00:00<?, ?it/s]"
     ]
    },
    {
     "name": "stdout",
     "output_type": "stream",
     "text": [
      "Loaded 220 stocks from /home/notger-heinz/projects_and_analysis/black_swan_strategy/prices.\n",
      "2 stocks were rejected for reason of having less than 1000 entries.\n",
      "After filtering out 4192 rows with weird date formats, 10552 rows remain.\n",
      "After removal of discontinuous stock price lists was skipped, 218 stocks are left.\n",
      "\n"
     ]
    },
    {
     "name": "stderr",
     "output_type": "stream",
     "text": [
      "100%|██████████| 218/218 [01:36<00:00,  2.25it/s]"
     ]
    },
    {
     "name": "stdout",
     "output_type": "stream",
     "text": [
      "Finished calculating the yearly sigmas.\n"
     ]
    },
    {
     "name": "stderr",
     "output_type": "stream",
     "text": [
      "\n"
     ]
    },
    {
     "data": {
      "application/vnd.jupyter.widget-view+json": {
       "model_id": "d6ca5b23547941dd899ca6ca49ba9c23",
       "version_major": 2,
       "version_minor": 0
      },
      "text/plain": [
       "HBox(children=(HTML(value=''), FloatProgress(value=0.0, max=218.0), HTML(value='')))"
      ]
     },
     "metadata": {},
     "output_type": "display_data"
    },
    {
     "name": "stdout",
     "output_type": "stream",
     "text": [
      "\n"
     ]
    },
    {
     "name": "stderr",
     "output_type": "stream",
     "text": [
      "\r",
      "  0%|          | 0/218 [00:00<?, ?it/s]"
     ]
    },
    {
     "name": "stdout",
     "output_type": "stream",
     "text": [
      "Loaded 220 stocks from /home/notger-heinz/projects_and_analysis/black_swan_strategy/prices.\n",
      "2 stocks were rejected for reason of having less than 1000 entries.\n",
      "After filtering out 4192 rows with weird date formats, 10552 rows remain.\n",
      "After removal of discontinuous stock price lists was skipped, 218 stocks are left.\n",
      "\n"
     ]
    },
    {
     "name": "stderr",
     "output_type": "stream",
     "text": [
      "100%|██████████| 218/218 [01:36<00:00,  2.25it/s]"
     ]
    },
    {
     "name": "stdout",
     "output_type": "stream",
     "text": [
      "Finished calculating the yearly sigmas.\n"
     ]
    },
    {
     "name": "stderr",
     "output_type": "stream",
     "text": [
      "\n"
     ]
    },
    {
     "data": {
      "application/vnd.jupyter.widget-view+json": {
       "model_id": "b8fa4afa54914477816e73d78d7d21e4",
       "version_major": 2,
       "version_minor": 0
      },
      "text/plain": [
       "HBox(children=(HTML(value=''), FloatProgress(value=0.0, max=218.0), HTML(value='')))"
      ]
     },
     "metadata": {},
     "output_type": "display_data"
    },
    {
     "name": "stdout",
     "output_type": "stream",
     "text": [
      "\n"
     ]
    },
    {
     "name": "stderr",
     "output_type": "stream",
     "text": [
      "\r",
      "  0%|          | 0/218 [00:00<?, ?it/s]"
     ]
    },
    {
     "name": "stdout",
     "output_type": "stream",
     "text": [
      "Loaded 220 stocks from /home/notger-heinz/projects_and_analysis/black_swan_strategy/prices.\n",
      "2 stocks were rejected for reason of having less than 1000 entries.\n",
      "After filtering out 4192 rows with weird date formats, 10552 rows remain.\n",
      "After removal of discontinuous stock price lists was skipped, 218 stocks are left.\n",
      "\n"
     ]
    },
    {
     "name": "stderr",
     "output_type": "stream",
     "text": [
      "100%|██████████| 218/218 [01:37<00:00,  2.24it/s]"
     ]
    },
    {
     "name": "stdout",
     "output_type": "stream",
     "text": [
      "Finished calculating the yearly sigmas.\n"
     ]
    },
    {
     "name": "stderr",
     "output_type": "stream",
     "text": [
      "\n"
     ]
    },
    {
     "data": {
      "application/vnd.jupyter.widget-view+json": {
       "model_id": "7eeccfa4d2d84c409988346446caad7c",
       "version_major": 2,
       "version_minor": 0
      },
      "text/plain": [
       "HBox(children=(HTML(value=''), FloatProgress(value=0.0, max=218.0), HTML(value='')))"
      ]
     },
     "metadata": {},
     "output_type": "display_data"
    },
    {
     "name": "stdout",
     "output_type": "stream",
     "text": [
      "\n"
     ]
    },
    {
     "name": "stderr",
     "output_type": "stream",
     "text": [
      "\r",
      "  0%|          | 0/218 [00:00<?, ?it/s]"
     ]
    },
    {
     "name": "stdout",
     "output_type": "stream",
     "text": [
      "Loaded 220 stocks from /home/notger-heinz/projects_and_analysis/black_swan_strategy/prices.\n",
      "2 stocks were rejected for reason of having less than 1000 entries.\n",
      "After filtering out 4192 rows with weird date formats, 10552 rows remain.\n",
      "After removal of discontinuous stock price lists was skipped, 218 stocks are left.\n",
      "\n"
     ]
    },
    {
     "name": "stderr",
     "output_type": "stream",
     "text": [
      "100%|██████████| 218/218 [01:36<00:00,  2.25it/s]"
     ]
    },
    {
     "name": "stdout",
     "output_type": "stream",
     "text": [
      "Finished calculating the yearly sigmas.\n"
     ]
    },
    {
     "name": "stderr",
     "output_type": "stream",
     "text": [
      "\n"
     ]
    },
    {
     "data": {
      "application/vnd.jupyter.widget-view+json": {
       "model_id": "a5aa88b6728447f69e2a61b442d0d1a8",
       "version_major": 2,
       "version_minor": 0
      },
      "text/plain": [
       "HBox(children=(HTML(value=''), FloatProgress(value=0.0, max=218.0), HTML(value='')))"
      ]
     },
     "metadata": {},
     "output_type": "display_data"
    },
    {
     "name": "stdout",
     "output_type": "stream",
     "text": [
      "\n"
     ]
    },
    {
     "name": "stderr",
     "output_type": "stream",
     "text": [
      "\r",
      "  0%|          | 0/218 [00:00<?, ?it/s]"
     ]
    },
    {
     "name": "stdout",
     "output_type": "stream",
     "text": [
      "Loaded 220 stocks from /home/notger-heinz/projects_and_analysis/black_swan_strategy/prices.\n",
      "2 stocks were rejected for reason of having less than 1000 entries.\n",
      "After filtering out 4192 rows with weird date formats, 10552 rows remain.\n",
      "After removal of discontinuous stock price lists was skipped, 218 stocks are left.\n",
      "\n"
     ]
    },
    {
     "name": "stderr",
     "output_type": "stream",
     "text": [
      "100%|██████████| 218/218 [01:37<00:00,  2.25it/s]"
     ]
    },
    {
     "name": "stdout",
     "output_type": "stream",
     "text": [
      "Finished calculating the yearly sigmas.\n"
     ]
    },
    {
     "name": "stderr",
     "output_type": "stream",
     "text": [
      "\n"
     ]
    },
    {
     "data": {
      "application/vnd.jupyter.widget-view+json": {
       "model_id": "e487ac3b6bf840b2853abe43c250ef4a",
       "version_major": 2,
       "version_minor": 0
      },
      "text/plain": [
       "HBox(children=(HTML(value=''), FloatProgress(value=0.0, max=218.0), HTML(value='')))"
      ]
     },
     "metadata": {},
     "output_type": "display_data"
    },
    {
     "name": "stdout",
     "output_type": "stream",
     "text": [
      "\n"
     ]
    },
    {
     "name": "stderr",
     "output_type": "stream",
     "text": [
      "\r",
      "  0%|          | 0/218 [00:00<?, ?it/s]"
     ]
    },
    {
     "name": "stdout",
     "output_type": "stream",
     "text": [
      "Loaded 220 stocks from /home/notger-heinz/projects_and_analysis/black_swan_strategy/prices.\n",
      "2 stocks were rejected for reason of having less than 1000 entries.\n",
      "After filtering out 4192 rows with weird date formats, 10552 rows remain.\n",
      "After removal of discontinuous stock price lists was skipped, 218 stocks are left.\n",
      "\n"
     ]
    },
    {
     "name": "stderr",
     "output_type": "stream",
     "text": [
      "100%|██████████| 218/218 [01:36<00:00,  2.26it/s]"
     ]
    },
    {
     "name": "stdout",
     "output_type": "stream",
     "text": [
      "Finished calculating the yearly sigmas.\n"
     ]
    },
    {
     "name": "stderr",
     "output_type": "stream",
     "text": [
      "\n"
     ]
    },
    {
     "data": {
      "application/vnd.jupyter.widget-view+json": {
       "model_id": "57aa87ef3226412085b7b942ec1ee91a",
       "version_major": 2,
       "version_minor": 0
      },
      "text/plain": [
       "HBox(children=(HTML(value=''), FloatProgress(value=0.0, max=218.0), HTML(value='')))"
      ]
     },
     "metadata": {},
     "output_type": "display_data"
    },
    {
     "name": "stdout",
     "output_type": "stream",
     "text": [
      "\n"
     ]
    },
    {
     "name": "stderr",
     "output_type": "stream",
     "text": [
      "\r",
      "  0%|          | 0/218 [00:00<?, ?it/s]"
     ]
    },
    {
     "name": "stdout",
     "output_type": "stream",
     "text": [
      "Loaded 220 stocks from /home/notger-heinz/projects_and_analysis/black_swan_strategy/prices.\n",
      "2 stocks were rejected for reason of having less than 1000 entries.\n",
      "After filtering out 4192 rows with weird date formats, 10552 rows remain.\n",
      "After removal of discontinuous stock price lists was skipped, 218 stocks are left.\n",
      "\n"
     ]
    },
    {
     "name": "stderr",
     "output_type": "stream",
     "text": [
      "100%|██████████| 218/218 [01:37<00:00,  2.24it/s]"
     ]
    },
    {
     "name": "stdout",
     "output_type": "stream",
     "text": [
      "Finished calculating the yearly sigmas.\n"
     ]
    },
    {
     "name": "stderr",
     "output_type": "stream",
     "text": [
      "\n"
     ]
    },
    {
     "data": {
      "application/vnd.jupyter.widget-view+json": {
       "model_id": "e394409b36924e23a89f15f6cbe2ad16",
       "version_major": 2,
       "version_minor": 0
      },
      "text/plain": [
       "HBox(children=(HTML(value=''), FloatProgress(value=0.0, max=218.0), HTML(value='')))"
      ]
     },
     "metadata": {},
     "output_type": "display_data"
    },
    {
     "name": "stdout",
     "output_type": "stream",
     "text": [
      "\n"
     ]
    },
    {
     "name": "stderr",
     "output_type": "stream",
     "text": [
      "\r",
      "  0%|          | 0/218 [00:00<?, ?it/s]"
     ]
    },
    {
     "name": "stdout",
     "output_type": "stream",
     "text": [
      "Loaded 220 stocks from /home/notger-heinz/projects_and_analysis/black_swan_strategy/prices.\n",
      "2 stocks were rejected for reason of having less than 1000 entries.\n",
      "After filtering out 4192 rows with weird date formats, 10552 rows remain.\n",
      "After removal of discontinuous stock price lists was skipped, 218 stocks are left.\n",
      "\n"
     ]
    },
    {
     "name": "stderr",
     "output_type": "stream",
     "text": [
      "100%|██████████| 218/218 [01:36<00:00,  2.26it/s]"
     ]
    },
    {
     "name": "stdout",
     "output_type": "stream",
     "text": [
      "Finished calculating the yearly sigmas.\n"
     ]
    },
    {
     "name": "stderr",
     "output_type": "stream",
     "text": [
      "\n"
     ]
    },
    {
     "data": {
      "application/vnd.jupyter.widget-view+json": {
       "model_id": "46fd0825c7eb4450b5c5d916eb65e950",
       "version_major": 2,
       "version_minor": 0
      },
      "text/plain": [
       "HBox(children=(HTML(value=''), FloatProgress(value=0.0, max=218.0), HTML(value='')))"
      ]
     },
     "metadata": {},
     "output_type": "display_data"
    },
    {
     "name": "stdout",
     "output_type": "stream",
     "text": [
      "\n"
     ]
    },
    {
     "name": "stderr",
     "output_type": "stream",
     "text": [
      "\r",
      "  0%|          | 0/218 [00:00<?, ?it/s]"
     ]
    },
    {
     "name": "stdout",
     "output_type": "stream",
     "text": [
      "Loaded 220 stocks from /home/notger-heinz/projects_and_analysis/black_swan_strategy/prices.\n",
      "2 stocks were rejected for reason of having less than 1000 entries.\n",
      "After filtering out 4192 rows with weird date formats, 10552 rows remain.\n",
      "After removal of discontinuous stock price lists was skipped, 218 stocks are left.\n",
      "\n"
     ]
    },
    {
     "name": "stderr",
     "output_type": "stream",
     "text": [
      "100%|██████████| 218/218 [01:36<00:00,  2.25it/s]"
     ]
    },
    {
     "name": "stdout",
     "output_type": "stream",
     "text": [
      "Finished calculating the yearly sigmas.\n"
     ]
    },
    {
     "name": "stderr",
     "output_type": "stream",
     "text": [
      "\n"
     ]
    },
    {
     "data": {
      "application/vnd.jupyter.widget-view+json": {
       "model_id": "a50fa6c711d84a12ad56680f6ecbb548",
       "version_major": 2,
       "version_minor": 0
      },
      "text/plain": [
       "HBox(children=(HTML(value=''), FloatProgress(value=0.0, max=218.0), HTML(value='')))"
      ]
     },
     "metadata": {},
     "output_type": "display_data"
    },
    {
     "name": "stdout",
     "output_type": "stream",
     "text": [
      "\n"
     ]
    },
    {
     "name": "stderr",
     "output_type": "stream",
     "text": [
      "\r",
      "  0%|          | 0/218 [00:00<?, ?it/s]"
     ]
    },
    {
     "name": "stdout",
     "output_type": "stream",
     "text": [
      "Loaded 220 stocks from /home/notger-heinz/projects_and_analysis/black_swan_strategy/prices.\n",
      "2 stocks were rejected for reason of having less than 1000 entries.\n",
      "After filtering out 4192 rows with weird date formats, 10552 rows remain.\n",
      "After removal of discontinuous stock price lists was skipped, 218 stocks are left.\n",
      "\n"
     ]
    },
    {
     "name": "stderr",
     "output_type": "stream",
     "text": [
      "100%|██████████| 218/218 [01:36<00:00,  2.25it/s]"
     ]
    },
    {
     "name": "stdout",
     "output_type": "stream",
     "text": [
      "Finished calculating the yearly sigmas.\n"
     ]
    },
    {
     "name": "stderr",
     "output_type": "stream",
     "text": [
      "\n"
     ]
    },
    {
     "data": {
      "application/vnd.jupyter.widget-view+json": {
       "model_id": "411176d76ec94d9cb8fcc92a21ee66b8",
       "version_major": 2,
       "version_minor": 0
      },
      "text/plain": [
       "HBox(children=(HTML(value=''), FloatProgress(value=0.0, max=218.0), HTML(value='')))"
      ]
     },
     "metadata": {},
     "output_type": "display_data"
    },
    {
     "name": "stdout",
     "output_type": "stream",
     "text": [
      "\n"
     ]
    },
    {
     "name": "stderr",
     "output_type": "stream",
     "text": [
      "\r",
      "  0%|          | 0/218 [00:00<?, ?it/s]"
     ]
    },
    {
     "name": "stdout",
     "output_type": "stream",
     "text": [
      "Loaded 220 stocks from /home/notger-heinz/projects_and_analysis/black_swan_strategy/prices.\n",
      "2 stocks were rejected for reason of having less than 1000 entries.\n",
      "After filtering out 4192 rows with weird date formats, 10552 rows remain.\n",
      "After removal of discontinuous stock price lists was skipped, 218 stocks are left.\n",
      "\n"
     ]
    },
    {
     "name": "stderr",
     "output_type": "stream",
     "text": [
      "100%|██████████| 218/218 [01:36<00:00,  2.26it/s]"
     ]
    },
    {
     "name": "stdout",
     "output_type": "stream",
     "text": [
      "Finished calculating the yearly sigmas.\n"
     ]
    },
    {
     "name": "stderr",
     "output_type": "stream",
     "text": [
      "\n"
     ]
    },
    {
     "data": {
      "application/vnd.jupyter.widget-view+json": {
       "model_id": "5fb93734a60e4b11bbdd9c5bd87012f1",
       "version_major": 2,
       "version_minor": 0
      },
      "text/plain": [
       "HBox(children=(HTML(value=''), FloatProgress(value=0.0, max=218.0), HTML(value='')))"
      ]
     },
     "metadata": {},
     "output_type": "display_data"
    },
    {
     "name": "stdout",
     "output_type": "stream",
     "text": [
      "\n"
     ]
    },
    {
     "name": "stderr",
     "output_type": "stream",
     "text": [
      "\r",
      "  0%|          | 0/218 [00:00<?, ?it/s]"
     ]
    },
    {
     "name": "stdout",
     "output_type": "stream",
     "text": [
      "Loaded 220 stocks from /home/notger-heinz/projects_and_analysis/black_swan_strategy/prices.\n",
      "2 stocks were rejected for reason of having less than 1000 entries.\n",
      "After filtering out 4192 rows with weird date formats, 10552 rows remain.\n",
      "After removal of discontinuous stock price lists was skipped, 218 stocks are left.\n",
      "\n"
     ]
    },
    {
     "name": "stderr",
     "output_type": "stream",
     "text": [
      "100%|██████████| 218/218 [01:36<00:00,  2.25it/s]"
     ]
    },
    {
     "name": "stdout",
     "output_type": "stream",
     "text": [
      "Finished calculating the yearly sigmas.\n"
     ]
    },
    {
     "name": "stderr",
     "output_type": "stream",
     "text": [
      "\n"
     ]
    },
    {
     "data": {
      "application/vnd.jupyter.widget-view+json": {
       "model_id": "df56404f3c46420283f845dc5fc8e7d7",
       "version_major": 2,
       "version_minor": 0
      },
      "text/plain": [
       "HBox(children=(HTML(value=''), FloatProgress(value=0.0, max=218.0), HTML(value='')))"
      ]
     },
     "metadata": {},
     "output_type": "display_data"
    },
    {
     "name": "stdout",
     "output_type": "stream",
     "text": [
      "\n"
     ]
    },
    {
     "name": "stderr",
     "output_type": "stream",
     "text": [
      "\r",
      "  0%|          | 0/218 [00:00<?, ?it/s]"
     ]
    },
    {
     "name": "stdout",
     "output_type": "stream",
     "text": [
      "Loaded 220 stocks from /home/notger-heinz/projects_and_analysis/black_swan_strategy/prices.\n",
      "2 stocks were rejected for reason of having less than 1000 entries.\n",
      "After filtering out 4192 rows with weird date formats, 10552 rows remain.\n",
      "After removal of discontinuous stock price lists was skipped, 218 stocks are left.\n",
      "\n"
     ]
    },
    {
     "name": "stderr",
     "output_type": "stream",
     "text": [
      "100%|██████████| 218/218 [01:37<00:00,  2.23it/s]"
     ]
    },
    {
     "name": "stdout",
     "output_type": "stream",
     "text": [
      "Finished calculating the yearly sigmas.\n"
     ]
    },
    {
     "name": "stderr",
     "output_type": "stream",
     "text": [
      "\n"
     ]
    },
    {
     "data": {
      "application/vnd.jupyter.widget-view+json": {
       "model_id": "bda057b5bc224821abd77502fc79bb26",
       "version_major": 2,
       "version_minor": 0
      },
      "text/plain": [
       "HBox(children=(HTML(value=''), FloatProgress(value=0.0, max=218.0), HTML(value='')))"
      ]
     },
     "metadata": {},
     "output_type": "display_data"
    },
    {
     "name": "stdout",
     "output_type": "stream",
     "text": [
      "\n"
     ]
    },
    {
     "name": "stderr",
     "output_type": "stream",
     "text": [
      "\r",
      "  0%|          | 0/218 [00:00<?, ?it/s]"
     ]
    },
    {
     "name": "stdout",
     "output_type": "stream",
     "text": [
      "Loaded 220 stocks from /home/notger-heinz/projects_and_analysis/black_swan_strategy/prices.\n",
      "2 stocks were rejected for reason of having less than 1000 entries.\n",
      "After filtering out 4192 rows with weird date formats, 10552 rows remain.\n",
      "After removal of discontinuous stock price lists was skipped, 218 stocks are left.\n",
      "\n"
     ]
    },
    {
     "name": "stderr",
     "output_type": "stream",
     "text": [
      "100%|██████████| 218/218 [01:37<00:00,  2.24it/s]"
     ]
    },
    {
     "name": "stdout",
     "output_type": "stream",
     "text": [
      "Finished calculating the yearly sigmas.\n"
     ]
    },
    {
     "name": "stderr",
     "output_type": "stream",
     "text": [
      "\n"
     ]
    },
    {
     "data": {
      "application/vnd.jupyter.widget-view+json": {
       "model_id": "bd68d26d41374df09029c16751f8e08e",
       "version_major": 2,
       "version_minor": 0
      },
      "text/plain": [
       "HBox(children=(HTML(value=''), FloatProgress(value=0.0, max=218.0), HTML(value='')))"
      ]
     },
     "metadata": {},
     "output_type": "display_data"
    },
    {
     "name": "stdout",
     "output_type": "stream",
     "text": [
      "\n"
     ]
    },
    {
     "name": "stderr",
     "output_type": "stream",
     "text": [
      "\r",
      "  0%|          | 0/218 [00:00<?, ?it/s]"
     ]
    },
    {
     "name": "stdout",
     "output_type": "stream",
     "text": [
      "Loaded 220 stocks from /home/notger-heinz/projects_and_analysis/black_swan_strategy/prices.\n",
      "2 stocks were rejected for reason of having less than 1000 entries.\n",
      "After filtering out 4192 rows with weird date formats, 10552 rows remain.\n",
      "After removal of discontinuous stock price lists was skipped, 218 stocks are left.\n",
      "\n"
     ]
    },
    {
     "name": "stderr",
     "output_type": "stream",
     "text": [
      "100%|██████████| 218/218 [01:37<00:00,  2.23it/s]"
     ]
    },
    {
     "name": "stdout",
     "output_type": "stream",
     "text": [
      "Finished calculating the yearly sigmas.\n"
     ]
    },
    {
     "name": "stderr",
     "output_type": "stream",
     "text": [
      "\n"
     ]
    },
    {
     "data": {
      "application/vnd.jupyter.widget-view+json": {
       "model_id": "7acd032e9a744edfab3743cb02091965",
       "version_major": 2,
       "version_minor": 0
      },
      "text/plain": [
       "HBox(children=(HTML(value=''), FloatProgress(value=0.0, max=218.0), HTML(value='')))"
      ]
     },
     "metadata": {},
     "output_type": "display_data"
    },
    {
     "name": "stdout",
     "output_type": "stream",
     "text": [
      "\n"
     ]
    },
    {
     "name": "stderr",
     "output_type": "stream",
     "text": [
      "\r",
      "  0%|          | 0/218 [00:00<?, ?it/s]"
     ]
    },
    {
     "name": "stdout",
     "output_type": "stream",
     "text": [
      "Loaded 220 stocks from /home/notger-heinz/projects_and_analysis/black_swan_strategy/prices.\n",
      "2 stocks were rejected for reason of having less than 1000 entries.\n",
      "After filtering out 4192 rows with weird date formats, 10552 rows remain.\n",
      "After removal of discontinuous stock price lists was skipped, 218 stocks are left.\n",
      "\n"
     ]
    },
    {
     "name": "stderr",
     "output_type": "stream",
     "text": [
      "100%|██████████| 218/218 [01:37<00:00,  2.24it/s]"
     ]
    },
    {
     "name": "stdout",
     "output_type": "stream",
     "text": [
      "Finished calculating the yearly sigmas.\n"
     ]
    },
    {
     "name": "stderr",
     "output_type": "stream",
     "text": [
      "\n"
     ]
    },
    {
     "data": {
      "application/vnd.jupyter.widget-view+json": {
       "model_id": "e53a812680ec497b812c6e48ff62b485",
       "version_major": 2,
       "version_minor": 0
      },
      "text/plain": [
       "HBox(children=(HTML(value=''), FloatProgress(value=0.0, max=218.0), HTML(value='')))"
      ]
     },
     "metadata": {},
     "output_type": "display_data"
    },
    {
     "name": "stdout",
     "output_type": "stream",
     "text": [
      "\n"
     ]
    },
    {
     "name": "stderr",
     "output_type": "stream",
     "text": [
      "\r",
      "  0%|          | 0/218 [00:00<?, ?it/s]"
     ]
    },
    {
     "name": "stdout",
     "output_type": "stream",
     "text": [
      "Loaded 220 stocks from /home/notger-heinz/projects_and_analysis/black_swan_strategy/prices.\n",
      "2 stocks were rejected for reason of having less than 1000 entries.\n",
      "After filtering out 4192 rows with weird date formats, 10552 rows remain.\n",
      "After removal of discontinuous stock price lists was skipped, 218 stocks are left.\n",
      "\n"
     ]
    },
    {
     "name": "stderr",
     "output_type": "stream",
     "text": [
      "100%|██████████| 218/218 [01:38<00:00,  2.22it/s]"
     ]
    },
    {
     "name": "stdout",
     "output_type": "stream",
     "text": [
      "Finished calculating the yearly sigmas.\n"
     ]
    },
    {
     "name": "stderr",
     "output_type": "stream",
     "text": [
      "\n"
     ]
    },
    {
     "data": {
      "application/vnd.jupyter.widget-view+json": {
       "model_id": "09d2af6f45d841418fdb9f16565f67d4",
       "version_major": 2,
       "version_minor": 0
      },
      "text/plain": [
       "HBox(children=(HTML(value=''), FloatProgress(value=0.0, max=218.0), HTML(value='')))"
      ]
     },
     "metadata": {},
     "output_type": "display_data"
    },
    {
     "name": "stdout",
     "output_type": "stream",
     "text": [
      "\n"
     ]
    },
    {
     "name": "stderr",
     "output_type": "stream",
     "text": [
      "\r",
      "  0%|          | 0/218 [00:00<?, ?it/s]"
     ]
    },
    {
     "name": "stdout",
     "output_type": "stream",
     "text": [
      "Loaded 220 stocks from /home/notger-heinz/projects_and_analysis/black_swan_strategy/prices.\n",
      "2 stocks were rejected for reason of having less than 1000 entries.\n",
      "After filtering out 4192 rows with weird date formats, 10552 rows remain.\n",
      "After removal of discontinuous stock price lists was skipped, 218 stocks are left.\n",
      "\n"
     ]
    },
    {
     "name": "stderr",
     "output_type": "stream",
     "text": [
      "100%|██████████| 218/218 [01:37<00:00,  2.24it/s]"
     ]
    },
    {
     "name": "stdout",
     "output_type": "stream",
     "text": [
      "Finished calculating the yearly sigmas.\n"
     ]
    },
    {
     "name": "stderr",
     "output_type": "stream",
     "text": [
      "\n"
     ]
    },
    {
     "data": {
      "application/vnd.jupyter.widget-view+json": {
       "model_id": "4dcad60f93224d30bfa2814fde77f1bd",
       "version_major": 2,
       "version_minor": 0
      },
      "text/plain": [
       "HBox(children=(HTML(value=''), FloatProgress(value=0.0, max=218.0), HTML(value='')))"
      ]
     },
     "metadata": {},
     "output_type": "display_data"
    },
    {
     "name": "stdout",
     "output_type": "stream",
     "text": [
      "\n"
     ]
    },
    {
     "name": "stderr",
     "output_type": "stream",
     "text": [
      "\r",
      "  0%|          | 0/218 [00:00<?, ?it/s]"
     ]
    },
    {
     "name": "stdout",
     "output_type": "stream",
     "text": [
      "Loaded 220 stocks from /home/notger-heinz/projects_and_analysis/black_swan_strategy/prices.\n",
      "2 stocks were rejected for reason of having less than 1000 entries.\n",
      "After filtering out 4192 rows with weird date formats, 10552 rows remain.\n",
      "After removal of discontinuous stock price lists was skipped, 218 stocks are left.\n",
      "\n"
     ]
    },
    {
     "name": "stderr",
     "output_type": "stream",
     "text": [
      "100%|██████████| 218/218 [01:36<00:00,  2.25it/s]"
     ]
    },
    {
     "name": "stdout",
     "output_type": "stream",
     "text": [
      "Finished calculating the yearly sigmas.\n"
     ]
    },
    {
     "name": "stderr",
     "output_type": "stream",
     "text": [
      "\n"
     ]
    },
    {
     "data": {
      "application/vnd.jupyter.widget-view+json": {
       "model_id": "0d8808f5ab754d7683887a7d3b1fa163",
       "version_major": 2,
       "version_minor": 0
      },
      "text/plain": [
       "HBox(children=(HTML(value=''), FloatProgress(value=0.0, max=218.0), HTML(value='')))"
      ]
     },
     "metadata": {},
     "output_type": "display_data"
    },
    {
     "name": "stdout",
     "output_type": "stream",
     "text": [
      "\n"
     ]
    },
    {
     "name": "stderr",
     "output_type": "stream",
     "text": [
      "\r",
      "  0%|          | 0/218 [00:00<?, ?it/s]"
     ]
    },
    {
     "name": "stdout",
     "output_type": "stream",
     "text": [
      "Loaded 220 stocks from /home/notger-heinz/projects_and_analysis/black_swan_strategy/prices.\n",
      "2 stocks were rejected for reason of having less than 1000 entries.\n",
      "After filtering out 4192 rows with weird date formats, 10552 rows remain.\n",
      "After removal of discontinuous stock price lists was skipped, 218 stocks are left.\n",
      "\n"
     ]
    },
    {
     "name": "stderr",
     "output_type": "stream",
     "text": [
      "100%|██████████| 218/218 [01:37<00:00,  2.25it/s]"
     ]
    },
    {
     "name": "stdout",
     "output_type": "stream",
     "text": [
      "Finished calculating the yearly sigmas.\n"
     ]
    },
    {
     "name": "stderr",
     "output_type": "stream",
     "text": [
      "\n"
     ]
    },
    {
     "data": {
      "application/vnd.jupyter.widget-view+json": {
       "model_id": "ca3f38b10a284691ab2a2f29ba83d36e",
       "version_major": 2,
       "version_minor": 0
      },
      "text/plain": [
       "HBox(children=(HTML(value=''), FloatProgress(value=0.0, max=218.0), HTML(value='')))"
      ]
     },
     "metadata": {},
     "output_type": "display_data"
    },
    {
     "name": "stdout",
     "output_type": "stream",
     "text": [
      "\n"
     ]
    },
    {
     "name": "stderr",
     "output_type": "stream",
     "text": [
      "\r",
      "  0%|          | 0/218 [00:00<?, ?it/s]"
     ]
    },
    {
     "name": "stdout",
     "output_type": "stream",
     "text": [
      "Loaded 220 stocks from /home/notger-heinz/projects_and_analysis/black_swan_strategy/prices.\n",
      "2 stocks were rejected for reason of having less than 1000 entries.\n",
      "After filtering out 4192 rows with weird date formats, 10552 rows remain.\n",
      "After removal of discontinuous stock price lists was skipped, 218 stocks are left.\n",
      "\n"
     ]
    },
    {
     "name": "stderr",
     "output_type": "stream",
     "text": [
      "100%|██████████| 218/218 [01:37<00:00,  2.25it/s]"
     ]
    },
    {
     "name": "stdout",
     "output_type": "stream",
     "text": [
      "Finished calculating the yearly sigmas.\n"
     ]
    },
    {
     "name": "stderr",
     "output_type": "stream",
     "text": [
      "\n"
     ]
    },
    {
     "data": {
      "application/vnd.jupyter.widget-view+json": {
       "model_id": "d3259b2ad6924e0db528b0144cbc5eec",
       "version_major": 2,
       "version_minor": 0
      },
      "text/plain": [
       "HBox(children=(HTML(value=''), FloatProgress(value=0.0, max=218.0), HTML(value='')))"
      ]
     },
     "metadata": {},
     "output_type": "display_data"
    },
    {
     "name": "stdout",
     "output_type": "stream",
     "text": [
      "\n"
     ]
    },
    {
     "name": "stderr",
     "output_type": "stream",
     "text": [
      "\r",
      "  0%|          | 0/218 [00:00<?, ?it/s]"
     ]
    },
    {
     "name": "stdout",
     "output_type": "stream",
     "text": [
      "Loaded 220 stocks from /home/notger-heinz/projects_and_analysis/black_swan_strategy/prices.\n",
      "2 stocks were rejected for reason of having less than 1000 entries.\n",
      "After filtering out 4192 rows with weird date formats, 10552 rows remain.\n",
      "After removal of discontinuous stock price lists was skipped, 218 stocks are left.\n",
      "\n"
     ]
    },
    {
     "name": "stderr",
     "output_type": "stream",
     "text": [
      "100%|██████████| 218/218 [01:36<00:00,  2.25it/s]"
     ]
    },
    {
     "name": "stdout",
     "output_type": "stream",
     "text": [
      "Finished calculating the yearly sigmas.\n"
     ]
    },
    {
     "name": "stderr",
     "output_type": "stream",
     "text": [
      "\n"
     ]
    },
    {
     "data": {
      "application/vnd.jupyter.widget-view+json": {
       "model_id": "2a8aa5ff70cd41e9abbad229d3240182",
       "version_major": 2,
       "version_minor": 0
      },
      "text/plain": [
       "HBox(children=(HTML(value=''), FloatProgress(value=0.0, max=218.0), HTML(value='')))"
      ]
     },
     "metadata": {},
     "output_type": "display_data"
    },
    {
     "name": "stdout",
     "output_type": "stream",
     "text": [
      "\n"
     ]
    },
    {
     "name": "stderr",
     "output_type": "stream",
     "text": [
      "\r",
      "  0%|          | 0/218 [00:00<?, ?it/s]"
     ]
    },
    {
     "name": "stdout",
     "output_type": "stream",
     "text": [
      "Loaded 220 stocks from /home/notger-heinz/projects_and_analysis/black_swan_strategy/prices.\n",
      "2 stocks were rejected for reason of having less than 1000 entries.\n",
      "After filtering out 4192 rows with weird date formats, 10552 rows remain.\n",
      "After removal of discontinuous stock price lists was skipped, 218 stocks are left.\n",
      "\n"
     ]
    },
    {
     "name": "stderr",
     "output_type": "stream",
     "text": [
      "100%|██████████| 218/218 [01:37<00:00,  2.23it/s]"
     ]
    },
    {
     "name": "stdout",
     "output_type": "stream",
     "text": [
      "Finished calculating the yearly sigmas.\n"
     ]
    },
    {
     "name": "stderr",
     "output_type": "stream",
     "text": [
      "\n"
     ]
    },
    {
     "data": {
      "application/vnd.jupyter.widget-view+json": {
       "model_id": "1b183f9dba4e44ff84436ccf1ca86179",
       "version_major": 2,
       "version_minor": 0
      },
      "text/plain": [
       "HBox(children=(HTML(value=''), FloatProgress(value=0.0, max=218.0), HTML(value='')))"
      ]
     },
     "metadata": {},
     "output_type": "display_data"
    },
    {
     "name": "stdout",
     "output_type": "stream",
     "text": [
      "\n"
     ]
    },
    {
     "name": "stderr",
     "output_type": "stream",
     "text": [
      "\r",
      "  0%|          | 0/218 [00:00<?, ?it/s]"
     ]
    },
    {
     "name": "stdout",
     "output_type": "stream",
     "text": [
      "Loaded 220 stocks from /home/notger-heinz/projects_and_analysis/black_swan_strategy/prices.\n",
      "2 stocks were rejected for reason of having less than 1000 entries.\n",
      "After filtering out 4192 rows with weird date formats, 10552 rows remain.\n",
      "After removal of discontinuous stock price lists was skipped, 218 stocks are left.\n",
      "\n"
     ]
    },
    {
     "name": "stderr",
     "output_type": "stream",
     "text": [
      "100%|██████████| 218/218 [01:37<00:00,  2.24it/s]"
     ]
    },
    {
     "name": "stdout",
     "output_type": "stream",
     "text": [
      "Finished calculating the yearly sigmas.\n"
     ]
    },
    {
     "name": "stderr",
     "output_type": "stream",
     "text": [
      "\n"
     ]
    },
    {
     "data": {
      "application/vnd.jupyter.widget-view+json": {
       "model_id": "8f5ce2f62f024366b3edd09665988107",
       "version_major": 2,
       "version_minor": 0
      },
      "text/plain": [
       "HBox(children=(HTML(value=''), FloatProgress(value=0.0, max=218.0), HTML(value='')))"
      ]
     },
     "metadata": {},
     "output_type": "display_data"
    },
    {
     "name": "stdout",
     "output_type": "stream",
     "text": [
      "\n"
     ]
    },
    {
     "name": "stderr",
     "output_type": "stream",
     "text": [
      "\r",
      "  0%|          | 0/218 [00:00<?, ?it/s]"
     ]
    },
    {
     "name": "stdout",
     "output_type": "stream",
     "text": [
      "Loaded 220 stocks from /home/notger-heinz/projects_and_analysis/black_swan_strategy/prices.\n",
      "2 stocks were rejected for reason of having less than 1000 entries.\n",
      "After filtering out 4192 rows with weird date formats, 10552 rows remain.\n",
      "After removal of discontinuous stock price lists was skipped, 218 stocks are left.\n",
      "\n"
     ]
    },
    {
     "name": "stderr",
     "output_type": "stream",
     "text": [
      "100%|██████████| 218/218 [01:36<00:00,  2.25it/s]"
     ]
    },
    {
     "name": "stdout",
     "output_type": "stream",
     "text": [
      "Finished calculating the yearly sigmas.\n"
     ]
    },
    {
     "name": "stderr",
     "output_type": "stream",
     "text": [
      "\n"
     ]
    },
    {
     "data": {
      "application/vnd.jupyter.widget-view+json": {
       "model_id": "df8f685be7844049b30868da91ba6993",
       "version_major": 2,
       "version_minor": 0
      },
      "text/plain": [
       "HBox(children=(HTML(value=''), FloatProgress(value=0.0, max=218.0), HTML(value='')))"
      ]
     },
     "metadata": {},
     "output_type": "display_data"
    },
    {
     "name": "stdout",
     "output_type": "stream",
     "text": [
      "\n"
     ]
    },
    {
     "name": "stderr",
     "output_type": "stream",
     "text": [
      "\r",
      "  0%|          | 0/218 [00:00<?, ?it/s]"
     ]
    },
    {
     "name": "stdout",
     "output_type": "stream",
     "text": [
      "Loaded 220 stocks from /home/notger-heinz/projects_and_analysis/black_swan_strategy/prices.\n",
      "2 stocks were rejected for reason of having less than 1000 entries.\n",
      "After filtering out 4192 rows with weird date formats, 10552 rows remain.\n",
      "After removal of discontinuous stock price lists was skipped, 218 stocks are left.\n",
      "\n"
     ]
    },
    {
     "name": "stderr",
     "output_type": "stream",
     "text": [
      "100%|██████████| 218/218 [01:37<00:00,  2.24it/s]"
     ]
    },
    {
     "name": "stdout",
     "output_type": "stream",
     "text": [
      "Finished calculating the yearly sigmas.\n"
     ]
    },
    {
     "name": "stderr",
     "output_type": "stream",
     "text": [
      "\n"
     ]
    },
    {
     "data": {
      "application/vnd.jupyter.widget-view+json": {
       "model_id": "9ddb41f5110a4a829a751bc1faa019f9",
       "version_major": 2,
       "version_minor": 0
      },
      "text/plain": [
       "HBox(children=(HTML(value=''), FloatProgress(value=0.0, max=218.0), HTML(value='')))"
      ]
     },
     "metadata": {},
     "output_type": "display_data"
    },
    {
     "name": "stdout",
     "output_type": "stream",
     "text": [
      "\n"
     ]
    },
    {
     "name": "stderr",
     "output_type": "stream",
     "text": [
      "\r",
      "  0%|          | 0/218 [00:00<?, ?it/s]"
     ]
    },
    {
     "name": "stdout",
     "output_type": "stream",
     "text": [
      "Loaded 220 stocks from /home/notger-heinz/projects_and_analysis/black_swan_strategy/prices.\n",
      "2 stocks were rejected for reason of having less than 1000 entries.\n",
      "After filtering out 4192 rows with weird date formats, 10552 rows remain.\n",
      "After removal of discontinuous stock price lists was skipped, 218 stocks are left.\n",
      "\n"
     ]
    },
    {
     "name": "stderr",
     "output_type": "stream",
     "text": [
      "100%|██████████| 218/218 [01:36<00:00,  2.25it/s]"
     ]
    },
    {
     "name": "stdout",
     "output_type": "stream",
     "text": [
      "Finished calculating the yearly sigmas.\n"
     ]
    },
    {
     "name": "stderr",
     "output_type": "stream",
     "text": [
      "\n"
     ]
    },
    {
     "data": {
      "application/vnd.jupyter.widget-view+json": {
       "model_id": "a0d8929d5aab4f02bf8278c96e06737d",
       "version_major": 2,
       "version_minor": 0
      },
      "text/plain": [
       "HBox(children=(HTML(value=''), FloatProgress(value=0.0, max=218.0), HTML(value='')))"
      ]
     },
     "metadata": {},
     "output_type": "display_data"
    },
    {
     "name": "stdout",
     "output_type": "stream",
     "text": [
      "\n"
     ]
    },
    {
     "name": "stderr",
     "output_type": "stream",
     "text": [
      "\r",
      "  0%|          | 0/218 [00:00<?, ?it/s]"
     ]
    },
    {
     "name": "stdout",
     "output_type": "stream",
     "text": [
      "Loaded 220 stocks from /home/notger-heinz/projects_and_analysis/black_swan_strategy/prices.\n",
      "2 stocks were rejected for reason of having less than 1000 entries.\n",
      "After filtering out 4192 rows with weird date formats, 10552 rows remain.\n",
      "After removal of discontinuous stock price lists was skipped, 218 stocks are left.\n",
      "\n"
     ]
    },
    {
     "name": "stderr",
     "output_type": "stream",
     "text": [
      "100%|██████████| 218/218 [01:36<00:00,  2.26it/s]"
     ]
    },
    {
     "name": "stdout",
     "output_type": "stream",
     "text": [
      "Finished calculating the yearly sigmas.\n"
     ]
    },
    {
     "name": "stderr",
     "output_type": "stream",
     "text": [
      "\n"
     ]
    },
    {
     "data": {
      "application/vnd.jupyter.widget-view+json": {
       "model_id": "306930586c464372810f68b06a92bc51",
       "version_major": 2,
       "version_minor": 0
      },
      "text/plain": [
       "HBox(children=(HTML(value=''), FloatProgress(value=0.0, max=218.0), HTML(value='')))"
      ]
     },
     "metadata": {},
     "output_type": "display_data"
    },
    {
     "name": "stdout",
     "output_type": "stream",
     "text": [
      "\n"
     ]
    },
    {
     "name": "stderr",
     "output_type": "stream",
     "text": [
      "\r",
      "  0%|          | 0/218 [00:00<?, ?it/s]"
     ]
    },
    {
     "name": "stdout",
     "output_type": "stream",
     "text": [
      "Loaded 220 stocks from /home/notger-heinz/projects_and_analysis/black_swan_strategy/prices.\n",
      "2 stocks were rejected for reason of having less than 1000 entries.\n",
      "After filtering out 4192 rows with weird date formats, 10552 rows remain.\n",
      "After removal of discontinuous stock price lists was skipped, 218 stocks are left.\n",
      "\n"
     ]
    },
    {
     "name": "stderr",
     "output_type": "stream",
     "text": [
      "100%|██████████| 218/218 [01:36<00:00,  2.26it/s]"
     ]
    },
    {
     "name": "stdout",
     "output_type": "stream",
     "text": [
      "Finished calculating the yearly sigmas.\n"
     ]
    },
    {
     "name": "stderr",
     "output_type": "stream",
     "text": [
      "\n"
     ]
    },
    {
     "data": {
      "application/vnd.jupyter.widget-view+json": {
       "model_id": "e346bff11d354db7b549e2a11acc313e",
       "version_major": 2,
       "version_minor": 0
      },
      "text/plain": [
       "HBox(children=(HTML(value=''), FloatProgress(value=0.0, max=218.0), HTML(value='')))"
      ]
     },
     "metadata": {},
     "output_type": "display_data"
    },
    {
     "name": "stdout",
     "output_type": "stream",
     "text": [
      "\n"
     ]
    },
    {
     "name": "stderr",
     "output_type": "stream",
     "text": [
      "\r",
      "  0%|          | 0/218 [00:00<?, ?it/s]"
     ]
    },
    {
     "name": "stdout",
     "output_type": "stream",
     "text": [
      "Loaded 220 stocks from /home/notger-heinz/projects_and_analysis/black_swan_strategy/prices.\n",
      "2 stocks were rejected for reason of having less than 1000 entries.\n",
      "After filtering out 4192 rows with weird date formats, 10552 rows remain.\n",
      "After removal of discontinuous stock price lists was skipped, 218 stocks are left.\n",
      "\n"
     ]
    },
    {
     "name": "stderr",
     "output_type": "stream",
     "text": [
      "100%|██████████| 218/218 [01:37<00:00,  2.24it/s]"
     ]
    },
    {
     "name": "stdout",
     "output_type": "stream",
     "text": [
      "Finished calculating the yearly sigmas.\n"
     ]
    },
    {
     "name": "stderr",
     "output_type": "stream",
     "text": [
      "\n"
     ]
    },
    {
     "data": {
      "application/vnd.jupyter.widget-view+json": {
       "model_id": "d9aec19876674b53b88868cd11578c06",
       "version_major": 2,
       "version_minor": 0
      },
      "text/plain": [
       "HBox(children=(HTML(value=''), FloatProgress(value=0.0, max=218.0), HTML(value='')))"
      ]
     },
     "metadata": {},
     "output_type": "display_data"
    },
    {
     "name": "stdout",
     "output_type": "stream",
     "text": [
      "\n"
     ]
    },
    {
     "name": "stderr",
     "output_type": "stream",
     "text": [
      "\r",
      "  0%|          | 0/218 [00:00<?, ?it/s]"
     ]
    },
    {
     "name": "stdout",
     "output_type": "stream",
     "text": [
      "Loaded 220 stocks from /home/notger-heinz/projects_and_analysis/black_swan_strategy/prices.\n",
      "2 stocks were rejected for reason of having less than 1000 entries.\n",
      "After filtering out 4192 rows with weird date formats, 10552 rows remain.\n",
      "After removal of discontinuous stock price lists was skipped, 218 stocks are left.\n",
      "\n"
     ]
    },
    {
     "name": "stderr",
     "output_type": "stream",
     "text": [
      "100%|██████████| 218/218 [01:37<00:00,  2.25it/s]"
     ]
    },
    {
     "name": "stdout",
     "output_type": "stream",
     "text": [
      "Finished calculating the yearly sigmas.\n"
     ]
    },
    {
     "name": "stderr",
     "output_type": "stream",
     "text": [
      "\n"
     ]
    },
    {
     "data": {
      "application/vnd.jupyter.widget-view+json": {
       "model_id": "205eecb7e6a84eb3a13a2c86fe031bfc",
       "version_major": 2,
       "version_minor": 0
      },
      "text/plain": [
       "HBox(children=(HTML(value=''), FloatProgress(value=0.0, max=218.0), HTML(value='')))"
      ]
     },
     "metadata": {},
     "output_type": "display_data"
    },
    {
     "name": "stdout",
     "output_type": "stream",
     "text": [
      "\n"
     ]
    },
    {
     "name": "stderr",
     "output_type": "stream",
     "text": [
      "\r",
      "  0%|          | 0/218 [00:00<?, ?it/s]"
     ]
    },
    {
     "name": "stdout",
     "output_type": "stream",
     "text": [
      "Loaded 220 stocks from /home/notger-heinz/projects_and_analysis/black_swan_strategy/prices.\n",
      "2 stocks were rejected for reason of having less than 1000 entries.\n",
      "After filtering out 4192 rows with weird date formats, 10552 rows remain.\n",
      "After removal of discontinuous stock price lists was skipped, 218 stocks are left.\n",
      "\n"
     ]
    },
    {
     "name": "stderr",
     "output_type": "stream",
     "text": [
      "100%|██████████| 218/218 [01:37<00:00,  2.24it/s]"
     ]
    },
    {
     "name": "stdout",
     "output_type": "stream",
     "text": [
      "Finished calculating the yearly sigmas.\n"
     ]
    },
    {
     "name": "stderr",
     "output_type": "stream",
     "text": [
      "\n"
     ]
    },
    {
     "data": {
      "application/vnd.jupyter.widget-view+json": {
       "model_id": "de7a4e03363549c4b70739693b135678",
       "version_major": 2,
       "version_minor": 0
      },
      "text/plain": [
       "HBox(children=(HTML(value=''), FloatProgress(value=0.0, max=218.0), HTML(value='')))"
      ]
     },
     "metadata": {},
     "output_type": "display_data"
    },
    {
     "name": "stdout",
     "output_type": "stream",
     "text": [
      "\n"
     ]
    }
   ],
   "source": [
    "results = {\n",
    "    'horizon': [],\n",
    "    'out_of_money': [],\n",
    "    'score': [],\n",
    "}\n",
    "\n",
    "# Run the hyperparameter search:\n",
    "for out_of_money in hyper_oom:\n",
    "    for horizon in hyper_horizon:\n",
    "        hyper_sim = Simulation(\n",
    "            options=SimulationOptions(\n",
    "                out_of_money_factor=out_of_money,\n",
    "                horizon=horizon,\n",
    "            )\n",
    "        )\n",
    "        \n",
    "        hyper_sim.run()\n",
    "        \n",
    "        results['horizon'].append(horizon)\n",
    "        results['out_of_money'].append(out_of_money)\n",
    "        results['score'].append(hyper_score(hyper_sim))       "
   ]
  },
  {
   "cell_type": "code",
   "execution_count": 18,
   "metadata": {},
   "outputs": [],
   "source": [
    "results = pd.DataFrame(results)"
   ]
  },
  {
   "cell_type": "code",
   "execution_count": 34,
   "metadata": {},
   "outputs": [
    {
     "data": {
      "text/html": [
       "<div>\n",
       "<style scoped>\n",
       "    .dataframe tbody tr th:only-of-type {\n",
       "        vertical-align: middle;\n",
       "    }\n",
       "\n",
       "    .dataframe tbody tr th {\n",
       "        vertical-align: top;\n",
       "    }\n",
       "\n",
       "    .dataframe thead th {\n",
       "        text-align: right;\n",
       "    }\n",
       "</style>\n",
       "<table border=\"1\" class=\"dataframe\">\n",
       "  <thead>\n",
       "    <tr style=\"text-align: right;\">\n",
       "      <th></th>\n",
       "      <th>horizon</th>\n",
       "      <th>out_of_money</th>\n",
       "      <th>score</th>\n",
       "    </tr>\n",
       "  </thead>\n",
       "  <tbody>\n",
       "    <tr>\n",
       "      <th>0</th>\n",
       "      <td>63</td>\n",
       "      <td>0.3</td>\n",
       "      <td>-0.671607</td>\n",
       "    </tr>\n",
       "    <tr>\n",
       "      <th>1</th>\n",
       "      <td>110</td>\n",
       "      <td>0.3</td>\n",
       "      <td>-0.808112</td>\n",
       "    </tr>\n",
       "    <tr>\n",
       "      <th>2</th>\n",
       "      <td>157</td>\n",
       "      <td>0.3</td>\n",
       "      <td>-0.383235</td>\n",
       "    </tr>\n",
       "    <tr>\n",
       "      <th>3</th>\n",
       "      <td>204</td>\n",
       "      <td>0.3</td>\n",
       "      <td>0.599393</td>\n",
       "    </tr>\n",
       "    <tr>\n",
       "      <th>4</th>\n",
       "      <td>252</td>\n",
       "      <td>0.3</td>\n",
       "      <td>1.644727</td>\n",
       "    </tr>\n",
       "    <tr>\n",
       "      <th>5</th>\n",
       "      <td>63</td>\n",
       "      <td>0.4</td>\n",
       "      <td>-0.376899</td>\n",
       "    </tr>\n",
       "    <tr>\n",
       "      <th>6</th>\n",
       "      <td>110</td>\n",
       "      <td>0.4</td>\n",
       "      <td>9.179705</td>\n",
       "    </tr>\n",
       "    <tr>\n",
       "      <th>7</th>\n",
       "      <td>157</td>\n",
       "      <td>0.4</td>\n",
       "      <td>5.690362</td>\n",
       "    </tr>\n",
       "    <tr>\n",
       "      <th>8</th>\n",
       "      <td>204</td>\n",
       "      <td>0.4</td>\n",
       "      <td>51.353329</td>\n",
       "    </tr>\n",
       "    <tr>\n",
       "      <th>9</th>\n",
       "      <td>252</td>\n",
       "      <td>0.4</td>\n",
       "      <td>16.361951</td>\n",
       "    </tr>\n",
       "    <tr>\n",
       "      <th>10</th>\n",
       "      <td>63</td>\n",
       "      <td>0.5</td>\n",
       "      <td>3.184205</td>\n",
       "    </tr>\n",
       "    <tr>\n",
       "      <th>11</th>\n",
       "      <td>110</td>\n",
       "      <td>0.5</td>\n",
       "      <td>8.548739</td>\n",
       "    </tr>\n",
       "    <tr>\n",
       "      <th>12</th>\n",
       "      <td>157</td>\n",
       "      <td>0.5</td>\n",
       "      <td>8.982936</td>\n",
       "    </tr>\n",
       "    <tr>\n",
       "      <th>13</th>\n",
       "      <td>204</td>\n",
       "      <td>0.5</td>\n",
       "      <td>3.218198</td>\n",
       "    </tr>\n",
       "    <tr>\n",
       "      <th>14</th>\n",
       "      <td>252</td>\n",
       "      <td>0.5</td>\n",
       "      <td>2.833275</td>\n",
       "    </tr>\n",
       "    <tr>\n",
       "      <th>15</th>\n",
       "      <td>63</td>\n",
       "      <td>0.6</td>\n",
       "      <td>17.790437</td>\n",
       "    </tr>\n",
       "    <tr>\n",
       "      <th>16</th>\n",
       "      <td>110</td>\n",
       "      <td>0.6</td>\n",
       "      <td>4.723242</td>\n",
       "    </tr>\n",
       "    <tr>\n",
       "      <th>17</th>\n",
       "      <td>157</td>\n",
       "      <td>0.6</td>\n",
       "      <td>2.379364</td>\n",
       "    </tr>\n",
       "    <tr>\n",
       "      <th>18</th>\n",
       "      <td>204</td>\n",
       "      <td>0.6</td>\n",
       "      <td>1.474298</td>\n",
       "    </tr>\n",
       "    <tr>\n",
       "      <th>19</th>\n",
       "      <td>252</td>\n",
       "      <td>0.6</td>\n",
       "      <td>0.500461</td>\n",
       "    </tr>\n",
       "    <tr>\n",
       "      <th>20</th>\n",
       "      <td>63</td>\n",
       "      <td>0.7</td>\n",
       "      <td>4.961883</td>\n",
       "    </tr>\n",
       "    <tr>\n",
       "      <th>21</th>\n",
       "      <td>110</td>\n",
       "      <td>0.7</td>\n",
       "      <td>1.091953</td>\n",
       "    </tr>\n",
       "    <tr>\n",
       "      <th>22</th>\n",
       "      <td>157</td>\n",
       "      <td>0.7</td>\n",
       "      <td>0.004461</td>\n",
       "    </tr>\n",
       "    <tr>\n",
       "      <th>23</th>\n",
       "      <td>204</td>\n",
       "      <td>0.7</td>\n",
       "      <td>-0.262163</td>\n",
       "    </tr>\n",
       "    <tr>\n",
       "      <th>24</th>\n",
       "      <td>252</td>\n",
       "      <td>0.7</td>\n",
       "      <td>-0.396344</td>\n",
       "    </tr>\n",
       "    <tr>\n",
       "      <th>25</th>\n",
       "      <td>63</td>\n",
       "      <td>0.8</td>\n",
       "      <td>0.096811</td>\n",
       "    </tr>\n",
       "    <tr>\n",
       "      <th>26</th>\n",
       "      <td>110</td>\n",
       "      <td>0.8</td>\n",
       "      <td>-0.365844</td>\n",
       "    </tr>\n",
       "    <tr>\n",
       "      <th>27</th>\n",
       "      <td>157</td>\n",
       "      <td>0.8</td>\n",
       "      <td>-0.466729</td>\n",
       "    </tr>\n",
       "    <tr>\n",
       "      <th>28</th>\n",
       "      <td>204</td>\n",
       "      <td>0.8</td>\n",
       "      <td>-0.517261</td>\n",
       "    </tr>\n",
       "    <tr>\n",
       "      <th>29</th>\n",
       "      <td>252</td>\n",
       "      <td>0.8</td>\n",
       "      <td>-0.551481</td>\n",
       "    </tr>\n",
       "    <tr>\n",
       "      <th>30</th>\n",
       "      <td>63</td>\n",
       "      <td>0.9</td>\n",
       "      <td>-0.429340</td>\n",
       "    </tr>\n",
       "    <tr>\n",
       "      <th>31</th>\n",
       "      <td>110</td>\n",
       "      <td>0.9</td>\n",
       "      <td>-0.501306</td>\n",
       "    </tr>\n",
       "    <tr>\n",
       "      <th>32</th>\n",
       "      <td>157</td>\n",
       "      <td>0.9</td>\n",
       "      <td>-0.529786</td>\n",
       "    </tr>\n",
       "    <tr>\n",
       "      <th>33</th>\n",
       "      <td>204</td>\n",
       "      <td>0.9</td>\n",
       "      <td>-0.548915</td>\n",
       "    </tr>\n",
       "    <tr>\n",
       "      <th>34</th>\n",
       "      <td>252</td>\n",
       "      <td>0.9</td>\n",
       "      <td>-0.568168</td>\n",
       "    </tr>\n",
       "    <tr>\n",
       "      <th>35</th>\n",
       "      <td>63</td>\n",
       "      <td>1.0</td>\n",
       "      <td>-0.410746</td>\n",
       "    </tr>\n",
       "    <tr>\n",
       "      <th>36</th>\n",
       "      <td>110</td>\n",
       "      <td>1.0</td>\n",
       "      <td>-0.459795</td>\n",
       "    </tr>\n",
       "    <tr>\n",
       "      <th>37</th>\n",
       "      <td>157</td>\n",
       "      <td>1.0</td>\n",
       "      <td>-0.491700</td>\n",
       "    </tr>\n",
       "    <tr>\n",
       "      <th>38</th>\n",
       "      <td>204</td>\n",
       "      <td>1.0</td>\n",
       "      <td>-0.515958</td>\n",
       "    </tr>\n",
       "    <tr>\n",
       "      <th>39</th>\n",
       "      <td>252</td>\n",
       "      <td>1.0</td>\n",
       "      <td>-0.537262</td>\n",
       "    </tr>\n",
       "    <tr>\n",
       "      <th>40</th>\n",
       "      <td>63</td>\n",
       "      <td>1.1</td>\n",
       "      <td>-0.290575</td>\n",
       "    </tr>\n",
       "    <tr>\n",
       "      <th>41</th>\n",
       "      <td>110</td>\n",
       "      <td>1.1</td>\n",
       "      <td>-0.366719</td>\n",
       "    </tr>\n",
       "    <tr>\n",
       "      <th>42</th>\n",
       "      <td>157</td>\n",
       "      <td>1.1</td>\n",
       "      <td>-0.416029</td>\n",
       "    </tr>\n",
       "    <tr>\n",
       "      <th>43</th>\n",
       "      <td>204</td>\n",
       "      <td>1.1</td>\n",
       "      <td>-0.452183</td>\n",
       "    </tr>\n",
       "    <tr>\n",
       "      <th>44</th>\n",
       "      <td>252</td>\n",
       "      <td>1.1</td>\n",
       "      <td>-0.480635</td>\n",
       "    </tr>\n",
       "    <tr>\n",
       "      <th>45</th>\n",
       "      <td>63</td>\n",
       "      <td>1.2</td>\n",
       "      <td>-0.189471</td>\n",
       "    </tr>\n",
       "    <tr>\n",
       "      <th>46</th>\n",
       "      <td>110</td>\n",
       "      <td>1.2</td>\n",
       "      <td>-0.274114</td>\n",
       "    </tr>\n",
       "    <tr>\n",
       "      <th>47</th>\n",
       "      <td>157</td>\n",
       "      <td>1.2</td>\n",
       "      <td>-0.334013</td>\n",
       "    </tr>\n",
       "    <tr>\n",
       "      <th>48</th>\n",
       "      <td>204</td>\n",
       "      <td>1.2</td>\n",
       "      <td>-0.378986</td>\n",
       "    </tr>\n",
       "    <tr>\n",
       "      <th>49</th>\n",
       "      <td>252</td>\n",
       "      <td>1.2</td>\n",
       "      <td>-0.415025</td>\n",
       "    </tr>\n",
       "    <tr>\n",
       "      <th>50</th>\n",
       "      <td>63</td>\n",
       "      <td>1.3</td>\n",
       "      <td>-0.129852</td>\n",
       "    </tr>\n",
       "    <tr>\n",
       "      <th>51</th>\n",
       "      <td>110</td>\n",
       "      <td>1.3</td>\n",
       "      <td>-0.205264</td>\n",
       "    </tr>\n",
       "    <tr>\n",
       "      <th>52</th>\n",
       "      <td>157</td>\n",
       "      <td>1.3</td>\n",
       "      <td>-0.264963</td>\n",
       "    </tr>\n",
       "    <tr>\n",
       "      <th>53</th>\n",
       "      <td>204</td>\n",
       "      <td>1.3</td>\n",
       "      <td>-0.312132</td>\n",
       "    </tr>\n",
       "    <tr>\n",
       "      <th>54</th>\n",
       "      <td>252</td>\n",
       "      <td>1.3</td>\n",
       "      <td>-0.352201</td>\n",
       "    </tr>\n",
       "  </tbody>\n",
       "</table>\n",
       "</div>"
      ],
      "text/plain": [
       "    horizon  out_of_money      score\n",
       "0        63           0.3  -0.671607\n",
       "1       110           0.3  -0.808112\n",
       "2       157           0.3  -0.383235\n",
       "3       204           0.3   0.599393\n",
       "4       252           0.3   1.644727\n",
       "5        63           0.4  -0.376899\n",
       "6       110           0.4   9.179705\n",
       "7       157           0.4   5.690362\n",
       "8       204           0.4  51.353329\n",
       "9       252           0.4  16.361951\n",
       "10       63           0.5   3.184205\n",
       "11      110           0.5   8.548739\n",
       "12      157           0.5   8.982936\n",
       "13      204           0.5   3.218198\n",
       "14      252           0.5   2.833275\n",
       "15       63           0.6  17.790437\n",
       "16      110           0.6   4.723242\n",
       "17      157           0.6   2.379364\n",
       "18      204           0.6   1.474298\n",
       "19      252           0.6   0.500461\n",
       "20       63           0.7   4.961883\n",
       "21      110           0.7   1.091953\n",
       "22      157           0.7   0.004461\n",
       "23      204           0.7  -0.262163\n",
       "24      252           0.7  -0.396344\n",
       "25       63           0.8   0.096811\n",
       "26      110           0.8  -0.365844\n",
       "27      157           0.8  -0.466729\n",
       "28      204           0.8  -0.517261\n",
       "29      252           0.8  -0.551481\n",
       "30       63           0.9  -0.429340\n",
       "31      110           0.9  -0.501306\n",
       "32      157           0.9  -0.529786\n",
       "33      204           0.9  -0.548915\n",
       "34      252           0.9  -0.568168\n",
       "35       63           1.0  -0.410746\n",
       "36      110           1.0  -0.459795\n",
       "37      157           1.0  -0.491700\n",
       "38      204           1.0  -0.515958\n",
       "39      252           1.0  -0.537262\n",
       "40       63           1.1  -0.290575\n",
       "41      110           1.1  -0.366719\n",
       "42      157           1.1  -0.416029\n",
       "43      204           1.1  -0.452183\n",
       "44      252           1.1  -0.480635\n",
       "45       63           1.2  -0.189471\n",
       "46      110           1.2  -0.274114\n",
       "47      157           1.2  -0.334013\n",
       "48      204           1.2  -0.378986\n",
       "49      252           1.2  -0.415025\n",
       "50       63           1.3  -0.129852\n",
       "51      110           1.3  -0.205264\n",
       "52      157           1.3  -0.264963\n",
       "53      204           1.3  -0.312132\n",
       "54      252           1.3  -0.352201"
      ]
     },
     "execution_count": 34,
     "metadata": {},
     "output_type": "execute_result"
    }
   ],
   "source": [
    "results"
   ]
  },
  {
   "cell_type": "code",
   "execution_count": 19,
   "metadata": {},
   "outputs": [
    {
     "data": {
      "text/plain": [
       "<matplotlib.axes._subplots.AxesSubplot at 0x7ff63595aeb0>"
      ]
     },
     "execution_count": 19,
     "metadata": {},
     "output_type": "execute_result"
    },
    {
     "data": {
      "image/png": "[encoded data removed]",
      "text/plain": [
       "<Figure size 432x288 with 1 Axes>"
      ]
     },
     "metadata": {
      "needs_background": "light"
     },
     "output_type": "display_data"
    }
   ],
   "source": [
    "sns.histplot(results.score, kde=True, stat='density')"
   ]
  },
  {
   "cell_type": "code",
   "execution_count": 20,
   "metadata": {},
   "outputs": [
    {
     "name": "stderr",
     "output_type": "stream",
     "text": [
      "\r",
      "  0%|          | 0/218 [00:00<?, ?it/s]"
     ]
    },
    {
     "name": "stdout",
     "output_type": "stream",
     "text": [
      "Loaded 220 stocks from /home/notger-heinz/projects_and_analysis/black_swan_strategy/prices.\n",
      "2 stocks were rejected for reason of having less than 1000 entries.\n",
      "After filtering out 4192 rows with weird date formats, 10552 rows remain.\n",
      "After removal of discontinuous stock price lists was skipped, 218 stocks are left.\n",
      "\n"
     ]
    },
    {
     "name": "stderr",
     "output_type": "stream",
     "text": [
      "100%|██████████| 218/218 [01:37<00:00,  2.24it/s]"
     ]
    },
    {
     "name": "stdout",
     "output_type": "stream",
     "text": [
      "Finished calculating the yearly sigmas.\n"
     ]
    },
    {
     "name": "stderr",
     "output_type": "stream",
     "text": [
      "\n"
     ]
    },
    {
     "data": {
      "application/vnd.jupyter.widget-view+json": {
       "model_id": "7cf608cedae04202b5ec42624f787902",
       "version_major": 2,
       "version_minor": 0
      },
      "text/plain": [
       "HBox(children=(HTML(value=''), FloatProgress(value=0.0, max=218.0), HTML(value='')))"
      ]
     },
     "metadata": {},
     "output_type": "display_data"
    },
    {
     "name": "stdout",
     "output_type": "stream",
     "text": [
      "\n"
     ]
    },
    {
     "data": {
      "text/html": [
       "<div>\n",
       "<style scoped>\n",
       "    .dataframe tbody tr th:only-of-type {\n",
       "        vertical-align: middle;\n",
       "    }\n",
       "\n",
       "    .dataframe tbody tr th {\n",
       "        vertical-align: top;\n",
       "    }\n",
       "\n",
       "    .dataframe thead th {\n",
       "        text-align: right;\n",
       "    }\n",
       "</style>\n",
       "<table border=\"1\" class=\"dataframe\">\n",
       "  <thead>\n",
       "    <tr style=\"text-align: right;\">\n",
       "      <th></th>\n",
       "      <th>CMI_prices</th>\n",
       "      <th>VNO_prices</th>\n",
       "      <th>TMO_prices</th>\n",
       "      <th>CMCSA_prices</th>\n",
       "      <th>AMD_prices</th>\n",
       "      <th>NEM_prices</th>\n",
       "      <th>TPR_prices</th>\n",
       "      <th>BF-B_prices</th>\n",
       "      <th>BR_prices</th>\n",
       "      <th>BLK_prices</th>\n",
       "      <th>...</th>\n",
       "      <th>CAG_prices</th>\n",
       "      <th>WFC_prices</th>\n",
       "      <th>CRM_prices</th>\n",
       "      <th>CPB_prices</th>\n",
       "      <th>WY_prices</th>\n",
       "      <th>VZ_prices</th>\n",
       "      <th>XRX_prices</th>\n",
       "      <th>WST_prices</th>\n",
       "      <th>VRSN_prices</th>\n",
       "      <th>NVDA_prices</th>\n",
       "    </tr>\n",
       "    <tr>\n",
       "      <th>Date</th>\n",
       "      <th></th>\n",
       "      <th></th>\n",
       "      <th></th>\n",
       "      <th></th>\n",
       "      <th></th>\n",
       "      <th></th>\n",
       "      <th></th>\n",
       "      <th></th>\n",
       "      <th></th>\n",
       "      <th></th>\n",
       "      <th></th>\n",
       "      <th></th>\n",
       "      <th></th>\n",
       "      <th></th>\n",
       "      <th></th>\n",
       "      <th></th>\n",
       "      <th></th>\n",
       "      <th></th>\n",
       "      <th></th>\n",
       "      <th></th>\n",
       "      <th></th>\n",
       "    </tr>\n",
       "  </thead>\n",
       "  <tbody>\n",
       "    <tr>\n",
       "      <th>1979-12-31</th>\n",
       "      <td>NaN</td>\n",
       "      <td>NaN</td>\n",
       "      <td>NaN</td>\n",
       "      <td>NaN</td>\n",
       "      <td>NaN</td>\n",
       "      <td>NaN</td>\n",
       "      <td>NaN</td>\n",
       "      <td>NaN</td>\n",
       "      <td>NaN</td>\n",
       "      <td>NaN</td>\n",
       "      <td>...</td>\n",
       "      <td>NaN</td>\n",
       "      <td>NaN</td>\n",
       "      <td>NaN</td>\n",
       "      <td>NaN</td>\n",
       "      <td>NaN</td>\n",
       "      <td>NaN</td>\n",
       "      <td>NaN</td>\n",
       "      <td>NaN</td>\n",
       "      <td>NaN</td>\n",
       "      <td>NaN</td>\n",
       "    </tr>\n",
       "    <tr>\n",
       "      <th>1980-01-02</th>\n",
       "      <td>NaN</td>\n",
       "      <td>NaN</td>\n",
       "      <td>NaN</td>\n",
       "      <td>NaN</td>\n",
       "      <td>NaN</td>\n",
       "      <td>NaN</td>\n",
       "      <td>NaN</td>\n",
       "      <td>NaN</td>\n",
       "      <td>NaN</td>\n",
       "      <td>NaN</td>\n",
       "      <td>...</td>\n",
       "      <td>NaN</td>\n",
       "      <td>NaN</td>\n",
       "      <td>NaN</td>\n",
       "      <td>NaN</td>\n",
       "      <td>NaN</td>\n",
       "      <td>NaN</td>\n",
       "      <td>NaN</td>\n",
       "      <td>NaN</td>\n",
       "      <td>NaN</td>\n",
       "      <td>NaN</td>\n",
       "    </tr>\n",
       "    <tr>\n",
       "      <th>1980-01-03</th>\n",
       "      <td>NaN</td>\n",
       "      <td>NaN</td>\n",
       "      <td>NaN</td>\n",
       "      <td>NaN</td>\n",
       "      <td>NaN</td>\n",
       "      <td>NaN</td>\n",
       "      <td>NaN</td>\n",
       "      <td>NaN</td>\n",
       "      <td>NaN</td>\n",
       "      <td>NaN</td>\n",
       "      <td>...</td>\n",
       "      <td>NaN</td>\n",
       "      <td>NaN</td>\n",
       "      <td>NaN</td>\n",
       "      <td>NaN</td>\n",
       "      <td>NaN</td>\n",
       "      <td>NaN</td>\n",
       "      <td>NaN</td>\n",
       "      <td>NaN</td>\n",
       "      <td>NaN</td>\n",
       "      <td>NaN</td>\n",
       "    </tr>\n",
       "    <tr>\n",
       "      <th>1980-01-04</th>\n",
       "      <td>NaN</td>\n",
       "      <td>NaN</td>\n",
       "      <td>NaN</td>\n",
       "      <td>NaN</td>\n",
       "      <td>NaN</td>\n",
       "      <td>NaN</td>\n",
       "      <td>NaN</td>\n",
       "      <td>NaN</td>\n",
       "      <td>NaN</td>\n",
       "      <td>NaN</td>\n",
       "      <td>...</td>\n",
       "      <td>NaN</td>\n",
       "      <td>NaN</td>\n",
       "      <td>NaN</td>\n",
       "      <td>NaN</td>\n",
       "      <td>NaN</td>\n",
       "      <td>NaN</td>\n",
       "      <td>NaN</td>\n",
       "      <td>NaN</td>\n",
       "      <td>NaN</td>\n",
       "      <td>NaN</td>\n",
       "    </tr>\n",
       "    <tr>\n",
       "      <th>1980-01-07</th>\n",
       "      <td>NaN</td>\n",
       "      <td>NaN</td>\n",
       "      <td>NaN</td>\n",
       "      <td>NaN</td>\n",
       "      <td>NaN</td>\n",
       "      <td>NaN</td>\n",
       "      <td>NaN</td>\n",
       "      <td>NaN</td>\n",
       "      <td>NaN</td>\n",
       "      <td>NaN</td>\n",
       "      <td>...</td>\n",
       "      <td>NaN</td>\n",
       "      <td>NaN</td>\n",
       "      <td>NaN</td>\n",
       "      <td>NaN</td>\n",
       "      <td>NaN</td>\n",
       "      <td>NaN</td>\n",
       "      <td>NaN</td>\n",
       "      <td>NaN</td>\n",
       "      <td>NaN</td>\n",
       "      <td>NaN</td>\n",
       "    </tr>\n",
       "    <tr>\n",
       "      <th>...</th>\n",
       "      <td>...</td>\n",
       "      <td>...</td>\n",
       "      <td>...</td>\n",
       "      <td>...</td>\n",
       "      <td>...</td>\n",
       "      <td>...</td>\n",
       "      <td>...</td>\n",
       "      <td>...</td>\n",
       "      <td>...</td>\n",
       "      <td>...</td>\n",
       "      <td>...</td>\n",
       "      <td>...</td>\n",
       "      <td>...</td>\n",
       "      <td>...</td>\n",
       "      <td>...</td>\n",
       "      <td>...</td>\n",
       "      <td>...</td>\n",
       "      <td>...</td>\n",
       "      <td>...</td>\n",
       "      <td>...</td>\n",
       "      <td>...</td>\n",
       "    </tr>\n",
       "    <tr>\n",
       "      <th>2021-01-25</th>\n",
       "      <td>NaN</td>\n",
       "      <td>NaN</td>\n",
       "      <td>NaN</td>\n",
       "      <td>NaN</td>\n",
       "      <td>NaN</td>\n",
       "      <td>NaN</td>\n",
       "      <td>NaN</td>\n",
       "      <td>NaN</td>\n",
       "      <td>NaN</td>\n",
       "      <td>NaN</td>\n",
       "      <td>...</td>\n",
       "      <td>NaN</td>\n",
       "      <td>NaN</td>\n",
       "      <td>NaN</td>\n",
       "      <td>NaN</td>\n",
       "      <td>NaN</td>\n",
       "      <td>NaN</td>\n",
       "      <td>NaN</td>\n",
       "      <td>NaN</td>\n",
       "      <td>NaN</td>\n",
       "      <td>NaN</td>\n",
       "    </tr>\n",
       "    <tr>\n",
       "      <th>2021-01-26</th>\n",
       "      <td>NaN</td>\n",
       "      <td>NaN</td>\n",
       "      <td>NaN</td>\n",
       "      <td>NaN</td>\n",
       "      <td>NaN</td>\n",
       "      <td>NaN</td>\n",
       "      <td>NaN</td>\n",
       "      <td>NaN</td>\n",
       "      <td>NaN</td>\n",
       "      <td>NaN</td>\n",
       "      <td>...</td>\n",
       "      <td>NaN</td>\n",
       "      <td>NaN</td>\n",
       "      <td>NaN</td>\n",
       "      <td>NaN</td>\n",
       "      <td>NaN</td>\n",
       "      <td>NaN</td>\n",
       "      <td>NaN</td>\n",
       "      <td>NaN</td>\n",
       "      <td>NaN</td>\n",
       "      <td>NaN</td>\n",
       "    </tr>\n",
       "    <tr>\n",
       "      <th>2021-01-27</th>\n",
       "      <td>NaN</td>\n",
       "      <td>NaN</td>\n",
       "      <td>NaN</td>\n",
       "      <td>NaN</td>\n",
       "      <td>NaN</td>\n",
       "      <td>NaN</td>\n",
       "      <td>NaN</td>\n",
       "      <td>NaN</td>\n",
       "      <td>NaN</td>\n",
       "      <td>NaN</td>\n",
       "      <td>...</td>\n",
       "      <td>NaN</td>\n",
       "      <td>NaN</td>\n",
       "      <td>NaN</td>\n",
       "      <td>NaN</td>\n",
       "      <td>NaN</td>\n",
       "      <td>NaN</td>\n",
       "      <td>NaN</td>\n",
       "      <td>NaN</td>\n",
       "      <td>NaN</td>\n",
       "      <td>NaN</td>\n",
       "    </tr>\n",
       "    <tr>\n",
       "      <th>2021-01-28</th>\n",
       "      <td>NaN</td>\n",
       "      <td>NaN</td>\n",
       "      <td>NaN</td>\n",
       "      <td>NaN</td>\n",
       "      <td>NaN</td>\n",
       "      <td>NaN</td>\n",
       "      <td>NaN</td>\n",
       "      <td>NaN</td>\n",
       "      <td>NaN</td>\n",
       "      <td>NaN</td>\n",
       "      <td>...</td>\n",
       "      <td>NaN</td>\n",
       "      <td>NaN</td>\n",
       "      <td>NaN</td>\n",
       "      <td>NaN</td>\n",
       "      <td>NaN</td>\n",
       "      <td>NaN</td>\n",
       "      <td>NaN</td>\n",
       "      <td>NaN</td>\n",
       "      <td>NaN</td>\n",
       "      <td>NaN</td>\n",
       "    </tr>\n",
       "    <tr>\n",
       "      <th>2021-01-29</th>\n",
       "      <td>NaN</td>\n",
       "      <td>NaN</td>\n",
       "      <td>NaN</td>\n",
       "      <td>NaN</td>\n",
       "      <td>NaN</td>\n",
       "      <td>NaN</td>\n",
       "      <td>NaN</td>\n",
       "      <td>NaN</td>\n",
       "      <td>NaN</td>\n",
       "      <td>NaN</td>\n",
       "      <td>...</td>\n",
       "      <td>NaN</td>\n",
       "      <td>NaN</td>\n",
       "      <td>NaN</td>\n",
       "      <td>NaN</td>\n",
       "      <td>NaN</td>\n",
       "      <td>NaN</td>\n",
       "      <td>NaN</td>\n",
       "      <td>NaN</td>\n",
       "      <td>NaN</td>\n",
       "      <td>NaN</td>\n",
       "    </tr>\n",
       "  </tbody>\n",
       "</table>\n",
       "<p>10552 rows × 218 columns</p>\n",
       "</div>"
      ],
      "text/plain": [
       "            CMI_prices  VNO_prices  TMO_prices  CMCSA_prices  AMD_prices  \\\n",
       "Date                                                                       \n",
       "1979-12-31         NaN         NaN         NaN           NaN         NaN   \n",
       "1980-01-02         NaN         NaN         NaN           NaN         NaN   \n",
       "1980-01-03         NaN         NaN         NaN           NaN         NaN   \n",
       "1980-01-04         NaN         NaN         NaN           NaN         NaN   \n",
       "1980-01-07         NaN         NaN         NaN           NaN         NaN   \n",
       "...                ...         ...         ...           ...         ...   \n",
       "2021-01-25         NaN         NaN         NaN           NaN         NaN   \n",
       "2021-01-26         NaN         NaN         NaN           NaN         NaN   \n",
       "2021-01-27         NaN         NaN         NaN           NaN         NaN   \n",
       "2021-01-28         NaN         NaN         NaN           NaN         NaN   \n",
       "2021-01-29         NaN         NaN         NaN           NaN         NaN   \n",
       "\n",
       "            NEM_prices  TPR_prices  BF-B_prices  BR_prices  BLK_prices  ...  \\\n",
       "Date                                                                    ...   \n",
       "1979-12-31         NaN         NaN          NaN        NaN         NaN  ...   \n",
       "1980-01-02         NaN         NaN          NaN        NaN         NaN  ...   \n",
       "1980-01-03         NaN         NaN          NaN        NaN         NaN  ...   \n",
       "1980-01-04         NaN         NaN          NaN        NaN         NaN  ...   \n",
       "1980-01-07         NaN         NaN          NaN        NaN         NaN  ...   \n",
       "...                ...         ...          ...        ...         ...  ...   \n",
       "2021-01-25         NaN         NaN          NaN        NaN         NaN  ...   \n",
       "2021-01-26         NaN         NaN          NaN        NaN         NaN  ...   \n",
       "2021-01-27         NaN         NaN          NaN        NaN         NaN  ...   \n",
       "2021-01-28         NaN         NaN          NaN        NaN         NaN  ...   \n",
       "2021-01-29         NaN         NaN          NaN        NaN         NaN  ...   \n",
       "\n",
       "            CAG_prices  WFC_prices  CRM_prices  CPB_prices  WY_prices  \\\n",
       "Date                                                                    \n",
       "1979-12-31         NaN         NaN         NaN         NaN        NaN   \n",
       "1980-01-02         NaN         NaN         NaN         NaN        NaN   \n",
       "1980-01-03         NaN         NaN         NaN         NaN        NaN   \n",
       "1980-01-04         NaN         NaN         NaN         NaN        NaN   \n",
       "1980-01-07         NaN         NaN         NaN         NaN        NaN   \n",
       "...                ...         ...         ...         ...        ...   \n",
       "2021-01-25         NaN         NaN         NaN         NaN        NaN   \n",
       "2021-01-26         NaN         NaN         NaN         NaN        NaN   \n",
       "2021-01-27         NaN         NaN         NaN         NaN        NaN   \n",
       "2021-01-28         NaN         NaN         NaN         NaN        NaN   \n",
       "2021-01-29         NaN         NaN         NaN         NaN        NaN   \n",
       "\n",
       "            VZ_prices  XRX_prices  WST_prices  VRSN_prices  NVDA_prices  \n",
       "Date                                                                     \n",
       "1979-12-31        NaN         NaN         NaN          NaN          NaN  \n",
       "1980-01-02        NaN         NaN         NaN          NaN          NaN  \n",
       "1980-01-03        NaN         NaN         NaN          NaN          NaN  \n",
       "1980-01-04        NaN         NaN         NaN          NaN          NaN  \n",
       "1980-01-07        NaN         NaN         NaN          NaN          NaN  \n",
       "...               ...         ...         ...          ...          ...  \n",
       "2021-01-25        NaN         NaN         NaN          NaN          NaN  \n",
       "2021-01-26        NaN         NaN         NaN          NaN          NaN  \n",
       "2021-01-27        NaN         NaN         NaN          NaN          NaN  \n",
       "2021-01-28        NaN         NaN         NaN          NaN          NaN  \n",
       "2021-01-29        NaN         NaN         NaN          NaN          NaN  \n",
       "\n",
       "[10552 rows x 218 columns]"
      ]
     },
     "execution_count": 20,
     "metadata": {},
     "output_type": "execute_result"
    }
   ],
   "source": [
    "# One final run with the best parameters to fuel the following comparison:\n",
    "best_index = results.score.idxmax()\n",
    "sim = Simulation(\n",
    "    options=SimulationOptions(\n",
    "        horizon=results.horizon.iloc[best_index],\n",
    "        out_of_money_factor=results.out_of_money.iloc[best_index],\n",
    "    )\n",
    ")\n",
    "sim.run()"
   ]
  },
  {
   "cell_type": "markdown",
   "metadata": {},
   "source": [
    "# Strategy comparison\n",
    "Compare strategies where we randomly bet on one stock per month/year and see what the return would be.\n",
    "\n",
    "For the time-wise allocation of our bets, we don't want to make our lives difficult by going e.g. for the end-of-the-month and having to find that end of the month. This is non-trivial, as after 1999, the trading days have changed from 252/253 per year to 260/262 per year.\n",
    "\n",
    "Instead, we assume a norm-year with 252 trading days and will split up our investments accordingly, investing every N days, where N = 252/12 = monthly investment and N = 252 = yearly investment."
   ]
  },
  {
   "cell_type": "code",
   "execution_count": 21,
   "metadata": {},
   "outputs": [],
   "source": [
    "# Number of simulation runs to create a distribution:\n",
    "N = 1_000"
   ]
  },
  {
   "cell_type": "markdown",
   "metadata": {},
   "source": [
    "## Base-line strategy\n",
    "We pick on stock and hold it until the end of times. What would out pay-off have been?"
   ]
  },
  {
   "cell_type": "code",
   "execution_count": 22,
   "metadata": {},
   "outputs": [],
   "source": [
    "def save_and_return_complete_timeline(data, filename):\n",
    "    \"\"\"\n",
    "    Appends simulated data, if that has not already been saved.\n",
    "    \"\"\"\n",
    "    try:\n",
    "        tmp = pd.read_csv(filename, squeeze=True)\n",
    "\n",
    "        # Check if the data is already in:\n",
    "        if np.isclose(tmp.values[-1], data.values[-1], 1e-5):\n",
    "            print(f'Data already saved in file, so we are not re-saving it.')\n",
    "            return tmp\n",
    "        else:\n",
    "            print('Data appended to stored data.')\n",
    "            tmp = tmp.append(data).reset_index().drop('index', axis=1).squeeze()\n",
    "            tmp.to_csv(filename, index=False)\n",
    "            return tmp\n",
    "\n",
    "    except:\n",
    "        print(f'{filename} not found, generating new file from data.')\n",
    "        data.to_csv(filename, index=False)\n",
    "        return data"
   ]
  },
  {
   "cell_type": "markdown",
   "metadata": {},
   "source": [
    "**ATTENTION** The Black Swan Strategy might have a lower count number of operable days, since we restricted trading to not start right away. We have to check this and adjust the starting offset for the baseline strategy to be completely fair."
   ]
  },
  {
   "cell_type": "code",
   "execution_count": 23,
   "metadata": {},
   "outputs": [],
   "source": [
    "# Find the minimum to start from, see above, by checking for the first row with payouts from the Black Swan strategy:\n",
    "for base_line_offset in range(0, len(sim.payouts)):\n",
    "    if len(sim.payouts.iloc[base_line_offset].dropna()) > 0:\n",
    "        break"
   ]
  },
  {
   "cell_type": "code",
   "execution_count": 24,
   "metadata": {},
   "outputs": [],
   "source": [
    "def base_line_strategy_return(sim, investment_offset=50, investment_period=int(252/12)):\n",
    "    \"\"\"\n",
    "    Takes the sim with the prices loaded and an index k and returns the roi, where 0 means neither win nor loss.\n",
    "    :param investment_offset: First index to start investing.\n",
    "    :param investment_period: How many trading days until next investment?\n",
    "    \"\"\"   \n",
    "    def has_prices(sim, k):\n",
    "        # Check if there are any prices to invest in at all:\n",
    "        return len(sim.prices.iloc[k].dropna() > 0)\n",
    "\n",
    "    def pick_stock(sim, k):\n",
    "        # Pick one candidate, buy it and stick with it to its last trading day / day on record:\n",
    "        investment_candidate = sim.prices.iloc[k].dropna().sample(1).index\n",
    "        price = sim.prices[investment_candidate].iloc[k]\n",
    "        final_price = sim.prices[investment_candidate].dropna().iloc[-1]\n",
    "        return (final_price - price) / (price)\n",
    "    \n",
    "    rois = [\n",
    "        pick_stock(sim, k) \n",
    "        for k in range(investment_offset, len(sim.prices), investment_period) \n",
    "        if has_prices(sim, k)\n",
    "    ]\n",
    "    \n",
    "    return np.mean(rois)"
   ]
  },
  {
   "cell_type": "code",
   "execution_count": 25,
   "metadata": {},
   "outputs": [
    {
     "data": {
      "application/vnd.jupyter.widget-view+json": {
       "model_id": "9a707039b57c42d2a326a88616cd16e9",
       "version_major": 2,
       "version_minor": 0
      },
      "text/plain": [
       "HBox(children=(HTML(value=''), FloatProgress(value=0.0, max=1000.0), HTML(value='')))"
      ]
     },
     "metadata": {},
     "output_type": "display_data"
    },
    {
     "name": "stdout",
     "output_type": "stream",
     "text": [
      "\n"
     ]
    }
   ],
   "source": [
    "base_line_strat = []\n",
    "for k in tqdm(range(N)):\n",
    "    base_line_strat.append(base_line_strategy_return(sim=sim, investment_offset=base_line_offset))\n",
    "    \n",
    "base_line_strat = pd.Series(base_line_strat)"
   ]
  },
  {
   "cell_type": "code",
   "execution_count": 26,
   "metadata": {},
   "outputs": [
    {
     "name": "stdout",
     "output_type": "stream",
     "text": [
      "base_line_strat.csv not found, generating new file from data.\n"
     ]
    }
   ],
   "source": [
    "base_line_strat = save_and_return_complete_timeline(base_line_strat, 'base_line_strat.csv')"
   ]
  },
  {
   "cell_type": "markdown",
   "metadata": {},
   "source": [
    "## Cash-out Black Swan"
   ]
  },
  {
   "cell_type": "code",
   "execution_count": 27,
   "metadata": {},
   "outputs": [],
   "source": [
    "def cash_out_black_swan_return(sim, investment_offset=0, investment_period=int(252/12)):\n",
    "    \"\"\"\n",
    "    Calculates the ROIs for a Black Swan strategy where we cash out at the end of the investment horizon.\n",
    "    This means we will always invest the same amount of money, wait for a year and then reap the benefits.\n",
    "    No reinvestment.\n",
    "    \"\"\"\n",
    "    def has_prices(sim, k):\n",
    "        # Check if there are any prices to invest in at all:\n",
    "        return len(sim.payouts.iloc[k].dropna() > 0)\n",
    "    \n",
    "    def pick_stock(sim, k):\n",
    "        return sim.payouts.iloc[k].dropna().sample(1)\n",
    "     \n",
    "    rois = [\n",
    "        pick_stock(sim, k) \n",
    "        for k in range(investment_offset, len(sim.prices), investment_period) \n",
    "        if has_prices(sim, k)\n",
    "    ]\n",
    "    \n",
    "    return np.mean(rois)"
   ]
  },
  {
   "cell_type": "code",
   "execution_count": 28,
   "metadata": {},
   "outputs": [
    {
     "data": {
      "application/vnd.jupyter.widget-view+json": {
       "model_id": "96e45f2bc5074569b9a8e6694f82eeda",
       "version_major": 2,
       "version_minor": 0
      },
      "text/plain": [
       "HBox(children=(HTML(value=''), FloatProgress(value=0.0, max=1000.0), HTML(value='')))"
      ]
     },
     "metadata": {},
     "output_type": "display_data"
    },
    {
     "name": "stdout",
     "output_type": "stream",
     "text": [
      "\n"
     ]
    }
   ],
   "source": [
    "cash_out_swan = []\n",
    "for k in tqdm(range(N)):\n",
    "    cash_out_swan.append(cash_out_black_swan_return(sim=sim))\n",
    "    \n",
    "cash_out_swan = pd.Series(cash_out_swan)"
   ]
  },
  {
   "cell_type": "code",
   "execution_count": 29,
   "metadata": {},
   "outputs": [
    {
     "name": "stdout",
     "output_type": "stream",
     "text": [
      "cash_out_swan.csv not found, generating new file from data.\n"
     ]
    }
   ],
   "source": [
    "cash_out_swan = save_and_return_complete_timeline(cash_out_swan, 'cash_out_swan.csv')"
   ]
  },
  {
   "cell_type": "markdown",
   "metadata": {},
   "source": [
    "## Reinvest Black Swan"
   ]
  },
  {
   "cell_type": "code",
   "execution_count": 30,
   "metadata": {},
   "outputs": [],
   "source": [
    "def reinvest_black_swan_return(sim, investment_offset=0, investment_period=int(252/12)):\n",
    "    \"\"\"\n",
    "    Calculates the ROIs for a Black Swan strategy where we reinvest in a given month,\n",
    "    what we got as payout in the month before plus the additional bunch that we had planned for anyway.\n",
    "    \n",
    "    We get this by walking the path from beginning to end for each month and multiplying all returns.\n",
    "    \"\"\"\n",
    "    def has_prices(sim, k):\n",
    "        # Check if there are any prices to invest in at all:\n",
    "        return len(sim.payouts.iloc[k].dropna() > 0)\n",
    "    \n",
    "    def pick_stock(sim, k):\n",
    "        # Choose a stock:\n",
    "        stock = sim.payouts.iloc[k].dropna().sample(1).index\n",
    "        \n",
    "        # Get the cumulative product for all returns which are spaced apart according \n",
    "        # to the investment horizon. Please note that as returns are neutral at zero,\n",
    "        # we have to add 1 to determine the actual payout when the option matures.\n",
    "        # Also, the cumulative product returns the running product, so we have to take\n",
    "        # the last value, as that is when we decide to finally cash out and not reinvest.\n",
    "        return (1 + sim.payouts[stock].iloc[k::sim.options.horizon].dropna()).cumprod().iloc[-1]\n",
    "     \n",
    "    rois = [\n",
    "        pick_stock(sim, k) \n",
    "        for k in range(investment_offset, len(sim.prices), investment_period) \n",
    "        if has_prices(sim, k)\n",
    "    ]\n",
    "    \n",
    "    return np.mean(rois)"
   ]
  },
  {
   "cell_type": "code",
   "execution_count": 31,
   "metadata": {},
   "outputs": [
    {
     "data": {
      "application/vnd.jupyter.widget-view+json": {
       "model_id": "969f0a52a910475b9b3880f25464e03d",
       "version_major": 2,
       "version_minor": 0
      },
      "text/plain": [
       "HBox(children=(HTML(value=''), FloatProgress(value=0.0, max=1000.0), HTML(value='')))"
      ]
     },
     "metadata": {},
     "output_type": "display_data"
    },
    {
     "name": "stdout",
     "output_type": "stream",
     "text": [
      "\n"
     ]
    }
   ],
   "source": [
    "reinvest_black_swan = []\n",
    "for k in tqdm(range(N)):\n",
    "    reinvest_black_swan.append(reinvest_black_swan_return(sim=sim))\n",
    "    \n",
    "reinvest_black_swan = pd.Series(reinvest_black_swan)"
   ]
  },
  {
   "cell_type": "code",
   "execution_count": 32,
   "metadata": {},
   "outputs": [
    {
     "name": "stdout",
     "output_type": "stream",
     "text": [
      "reinvest_swan.csv not found, generating new file from data.\n"
     ]
    }
   ],
   "source": [
    "reinvest_black_swan = save_and_return_complete_timeline(reinvest_black_swan, 'reinvest_swan.csv')"
   ]
  },
  {
   "cell_type": "code",
   "execution_count": 36,
   "metadata": {},
   "outputs": [
    {
     "data": {
      "image/png": "[encoded data removed]",
      "text/plain": [
       "<Figure size 1080x360 with 3 Axes>"
      ]
     },
     "metadata": {
      "needs_background": "light"
     },
     "output_type": "display_data"
    }
   ],
   "source": [
    "bins = np.linspace(0, 50, 51)\n",
    "colors = ['b', 'g', 'r']\n",
    "collections = [base_line_strat, cash_out_swan, reinvest_black_swan]\n",
    "plot_titles = ['base strat', 'cash out swan', 'reinvest swan']\n",
    "\n",
    "fig, axes = plt.subplots(1, 3, figsize=(15, 5))\n",
    "for k, ax in enumerate(axes):\n",
    "    sns.histplot(collections[k], ax=ax, stat='density', kde=True, bins=bins, color=colors[k])\n",
    "    ax.set_title(plot_titles[k])\n",
    "    ax.set_xlabel('mean return multiple')\n",
    "    ax.set_ylabel('density')\n",
    "    ax.set_xlim(min(bins), max(bins))"
   ]
  },
  {
   "cell_type": "code",
   "execution_count": null,
   "metadata": {},
   "outputs": [],
   "source": []
  }
 ],
 "metadata": {
  "kernelspec": {
   "display_name": "Python 3",
   "language": "python",
   "name": "python3"
  },
  "language_info": {
   "codemirror_mode": {
    "name": "ipython",
    "version": 3
   },
   "file_extension": ".py",
   "mimetype": "text/x-python",
   "name": "python",
   "nbconvert_exporter": "python",
   "pygments_lexer": "ipython3",
   "version": "3.8.10"
  }
 },
 "nbformat": 4,
 "nbformat_minor": 4
}
